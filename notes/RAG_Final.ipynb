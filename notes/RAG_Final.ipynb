{
  "cells": [
    {
      "cell_type": "markdown",
      "metadata": {
        "id": "xgdpd4T_EtQv"
      },
      "source": [
        "## Install dependencies"
      ]
    },
    {
      "cell_type": "code",
      "execution_count": null,
      "metadata": {
        "colab": {
          "base_uri": "https://localhost:8080/"
        },
        "id": "WAocLGwEEtQx",
        "outputId": "19b82365-2ef5-41c0-c096-894d58d4ff68"
      },
      "outputs": [
        {
          "output_type": "stream",
          "name": "stdout",
          "text": [
            "Requirement already satisfied: langchain~=0.0.352 in /usr/local/lib/python3.10/dist-packages (0.0.354)\n",
            "Requirement already satisfied: PyYAML>=5.3 in /usr/local/lib/python3.10/dist-packages (from langchain~=0.0.352) (6.0.1)\n",
            "Requirement already satisfied: SQLAlchemy<3,>=1.4 in /usr/local/lib/python3.10/dist-packages (from langchain~=0.0.352) (2.0.30)\n",
            "Requirement already satisfied: aiohttp<4.0.0,>=3.8.3 in /usr/local/lib/python3.10/dist-packages (from langchain~=0.0.352) (3.9.5)\n",
            "Requirement already satisfied: async-timeout<5.0.0,>=4.0.0 in /usr/local/lib/python3.10/dist-packages (from langchain~=0.0.352) (4.0.3)\n",
            "Requirement already satisfied: dataclasses-json<0.7,>=0.5.7 in /usr/local/lib/python3.10/dist-packages (from langchain~=0.0.352) (0.6.7)\n",
            "Requirement already satisfied: jsonpatch<2.0,>=1.33 in /usr/local/lib/python3.10/dist-packages (from langchain~=0.0.352) (1.33)\n",
            "Requirement already satisfied: langchain-community<0.1,>=0.0.8 in /usr/local/lib/python3.10/dist-packages (from langchain~=0.0.352) (0.0.20)\n",
            "Requirement already satisfied: langchain-core<0.2,>=0.1.5 in /usr/local/lib/python3.10/dist-packages (from langchain~=0.0.352) (0.1.23)\n",
            "Requirement already satisfied: langsmith<0.1.0,>=0.0.77 in /usr/local/lib/python3.10/dist-packages (from langchain~=0.0.352) (0.0.87)\n",
            "Requirement already satisfied: numpy<2,>=1 in /usr/local/lib/python3.10/dist-packages (from langchain~=0.0.352) (1.25.2)\n",
            "Requirement already satisfied: pydantic<3,>=1 in /usr/local/lib/python3.10/dist-packages (from langchain~=0.0.352) (2.7.3)\n",
            "Requirement already satisfied: requests<3,>=2 in /usr/local/lib/python3.10/dist-packages (from langchain~=0.0.352) (2.31.0)\n",
            "Requirement already satisfied: tenacity<9.0.0,>=8.1.0 in /usr/local/lib/python3.10/dist-packages (from langchain~=0.0.352) (8.3.0)\n",
            "Requirement already satisfied: aiosignal>=1.1.2 in /usr/local/lib/python3.10/dist-packages (from aiohttp<4.0.0,>=3.8.3->langchain~=0.0.352) (1.3.1)\n",
            "Requirement already satisfied: attrs>=17.3.0 in /usr/local/lib/python3.10/dist-packages (from aiohttp<4.0.0,>=3.8.3->langchain~=0.0.352) (23.2.0)\n",
            "Requirement already satisfied: frozenlist>=1.1.1 in /usr/local/lib/python3.10/dist-packages (from aiohttp<4.0.0,>=3.8.3->langchain~=0.0.352) (1.4.1)\n",
            "Requirement already satisfied: multidict<7.0,>=4.5 in /usr/local/lib/python3.10/dist-packages (from aiohttp<4.0.0,>=3.8.3->langchain~=0.0.352) (6.0.5)\n",
            "Requirement already satisfied: yarl<2.0,>=1.0 in /usr/local/lib/python3.10/dist-packages (from aiohttp<4.0.0,>=3.8.3->langchain~=0.0.352) (1.9.4)\n",
            "Requirement already satisfied: marshmallow<4.0.0,>=3.18.0 in /usr/local/lib/python3.10/dist-packages (from dataclasses-json<0.7,>=0.5.7->langchain~=0.0.352) (3.21.3)\n",
            "Requirement already satisfied: typing-inspect<1,>=0.4.0 in /usr/local/lib/python3.10/dist-packages (from dataclasses-json<0.7,>=0.5.7->langchain~=0.0.352) (0.9.0)\n",
            "Requirement already satisfied: jsonpointer>=1.9 in /usr/local/lib/python3.10/dist-packages (from jsonpatch<2.0,>=1.33->langchain~=0.0.352) (3.0.0)\n",
            "Requirement already satisfied: anyio<5,>=3 in /usr/local/lib/python3.10/dist-packages (from langchain-core<0.2,>=0.1.5->langchain~=0.0.352) (3.7.1)\n",
            "Requirement already satisfied: packaging<24.0,>=23.2 in /usr/local/lib/python3.10/dist-packages (from langchain-core<0.2,>=0.1.5->langchain~=0.0.352) (23.2)\n",
            "Requirement already satisfied: annotated-types>=0.4.0 in /usr/local/lib/python3.10/dist-packages (from pydantic<3,>=1->langchain~=0.0.352) (0.7.0)\n",
            "Requirement already satisfied: pydantic-core==2.18.4 in /usr/local/lib/python3.10/dist-packages (from pydantic<3,>=1->langchain~=0.0.352) (2.18.4)\n",
            "Requirement already satisfied: typing-extensions>=4.6.1 in /usr/local/lib/python3.10/dist-packages (from pydantic<3,>=1->langchain~=0.0.352) (4.12.2)\n",
            "Requirement already satisfied: charset-normalizer<4,>=2 in /usr/local/lib/python3.10/dist-packages (from requests<3,>=2->langchain~=0.0.352) (3.3.2)\n",
            "Requirement already satisfied: idna<4,>=2.5 in /usr/local/lib/python3.10/dist-packages (from requests<3,>=2->langchain~=0.0.352) (3.7)\n",
            "Requirement already satisfied: urllib3<3,>=1.21.1 in /usr/local/lib/python3.10/dist-packages (from requests<3,>=2->langchain~=0.0.352) (2.0.7)\n",
            "Requirement already satisfied: certifi>=2017.4.17 in /usr/local/lib/python3.10/dist-packages (from requests<3,>=2->langchain~=0.0.352) (2024.6.2)\n",
            "Requirement already satisfied: greenlet!=0.4.17 in /usr/local/lib/python3.10/dist-packages (from SQLAlchemy<3,>=1.4->langchain~=0.0.352) (3.0.3)\n",
            "Requirement already satisfied: sniffio>=1.1 in /usr/local/lib/python3.10/dist-packages (from anyio<5,>=3->langchain-core<0.2,>=0.1.5->langchain~=0.0.352) (1.3.1)\n",
            "Requirement already satisfied: exceptiongroup in /usr/local/lib/python3.10/dist-packages (from anyio<5,>=3->langchain-core<0.2,>=0.1.5->langchain~=0.0.352) (1.2.1)\n",
            "Requirement already satisfied: mypy-extensions>=0.3.0 in /usr/local/lib/python3.10/dist-packages (from typing-inspect<1,>=0.4.0->dataclasses-json<0.7,>=0.5.7->langchain~=0.0.352) (1.0.0)\n",
            "Requirement already satisfied: pypdf in /usr/local/lib/python3.10/dist-packages (4.2.0)\n",
            "Requirement already satisfied: typing_extensions>=4.0 in /usr/local/lib/python3.10/dist-packages (from pypdf) (4.12.2)\n",
            "Requirement already satisfied: sentence-transformers==2.2.2 in /usr/local/lib/python3.10/dist-packages (2.2.2)\n",
            "Requirement already satisfied: transformers<5.0.0,>=4.6.0 in /usr/local/lib/python3.10/dist-packages (from sentence-transformers==2.2.2) (4.36.2)\n",
            "Requirement already satisfied: tqdm in /usr/local/lib/python3.10/dist-packages (from sentence-transformers==2.2.2) (4.66.4)\n",
            "Requirement already satisfied: torch>=1.6.0 in /usr/local/lib/python3.10/dist-packages (from sentence-transformers==2.2.2) (2.1.2)\n",
            "Requirement already satisfied: torchvision in /usr/local/lib/python3.10/dist-packages (from sentence-transformers==2.2.2) (0.18.0+cu121)\n",
            "Requirement already satisfied: numpy in /usr/local/lib/python3.10/dist-packages (from sentence-transformers==2.2.2) (1.25.2)\n",
            "Requirement already satisfied: scikit-learn in /usr/local/lib/python3.10/dist-packages (from sentence-transformers==2.2.2) (1.2.2)\n",
            "Requirement already satisfied: scipy in /usr/local/lib/python3.10/dist-packages (from sentence-transformers==2.2.2) (1.11.4)\n",
            "Requirement already satisfied: nltk in /usr/local/lib/python3.10/dist-packages (from sentence-transformers==2.2.2) (3.8.1)\n",
            "Requirement already satisfied: sentencepiece in /usr/local/lib/python3.10/dist-packages (from sentence-transformers==2.2.2) (0.1.99)\n",
            "Requirement already satisfied: huggingface-hub>=0.4.0 in /usr/local/lib/python3.10/dist-packages (from sentence-transformers==2.2.2) (0.23.3)\n",
            "Requirement already satisfied: filelock in /usr/local/lib/python3.10/dist-packages (from huggingface-hub>=0.4.0->sentence-transformers==2.2.2) (3.14.0)\n",
            "Requirement already satisfied: fsspec>=2023.5.0 in /usr/local/lib/python3.10/dist-packages (from huggingface-hub>=0.4.0->sentence-transformers==2.2.2) (2023.6.0)\n",
            "Requirement already satisfied: packaging>=20.9 in /usr/local/lib/python3.10/dist-packages (from huggingface-hub>=0.4.0->sentence-transformers==2.2.2) (23.2)\n",
            "Requirement already satisfied: pyyaml>=5.1 in /usr/local/lib/python3.10/dist-packages (from huggingface-hub>=0.4.0->sentence-transformers==2.2.2) (6.0.1)\n",
            "Requirement already satisfied: requests in /usr/local/lib/python3.10/dist-packages (from huggingface-hub>=0.4.0->sentence-transformers==2.2.2) (2.31.0)\n",
            "Requirement already satisfied: typing-extensions>=3.7.4.3 in /usr/local/lib/python3.10/dist-packages (from huggingface-hub>=0.4.0->sentence-transformers==2.2.2) (4.12.2)\n",
            "Requirement already satisfied: sympy in /usr/local/lib/python3.10/dist-packages (from torch>=1.6.0->sentence-transformers==2.2.2) (1.12.1)\n",
            "Requirement already satisfied: networkx in /usr/local/lib/python3.10/dist-packages (from torch>=1.6.0->sentence-transformers==2.2.2) (3.3)\n",
            "Requirement already satisfied: jinja2 in /usr/local/lib/python3.10/dist-packages (from torch>=1.6.0->sentence-transformers==2.2.2) (3.1.4)\n",
            "Requirement already satisfied: nvidia-cuda-nvrtc-cu12==12.1.105 in /usr/local/lib/python3.10/dist-packages (from torch>=1.6.0->sentence-transformers==2.2.2) (12.1.105)\n",
            "Requirement already satisfied: nvidia-cuda-runtime-cu12==12.1.105 in /usr/local/lib/python3.10/dist-packages (from torch>=1.6.0->sentence-transformers==2.2.2) (12.1.105)\n",
            "Requirement already satisfied: nvidia-cuda-cupti-cu12==12.1.105 in /usr/local/lib/python3.10/dist-packages (from torch>=1.6.0->sentence-transformers==2.2.2) (12.1.105)\n",
            "Requirement already satisfied: nvidia-cudnn-cu12==8.9.2.26 in /usr/local/lib/python3.10/dist-packages (from torch>=1.6.0->sentence-transformers==2.2.2) (8.9.2.26)\n",
            "Requirement already satisfied: nvidia-cublas-cu12==12.1.3.1 in /usr/local/lib/python3.10/dist-packages (from torch>=1.6.0->sentence-transformers==2.2.2) (12.1.3.1)\n",
            "Requirement already satisfied: nvidia-cufft-cu12==11.0.2.54 in /usr/local/lib/python3.10/dist-packages (from torch>=1.6.0->sentence-transformers==2.2.2) (11.0.2.54)\n",
            "Requirement already satisfied: nvidia-curand-cu12==10.3.2.106 in /usr/local/lib/python3.10/dist-packages (from torch>=1.6.0->sentence-transformers==2.2.2) (10.3.2.106)\n",
            "Requirement already satisfied: nvidia-cusolver-cu12==11.4.5.107 in /usr/local/lib/python3.10/dist-packages (from torch>=1.6.0->sentence-transformers==2.2.2) (11.4.5.107)\n",
            "Requirement already satisfied: nvidia-cusparse-cu12==12.1.0.106 in /usr/local/lib/python3.10/dist-packages (from torch>=1.6.0->sentence-transformers==2.2.2) (12.1.0.106)\n",
            "Requirement already satisfied: nvidia-nccl-cu12==2.18.1 in /usr/local/lib/python3.10/dist-packages (from torch>=1.6.0->sentence-transformers==2.2.2) (2.18.1)\n",
            "Requirement already satisfied: nvidia-nvtx-cu12==12.1.105 in /usr/local/lib/python3.10/dist-packages (from torch>=1.6.0->sentence-transformers==2.2.2) (12.1.105)\n",
            "Requirement already satisfied: triton==2.1.0 in /usr/local/lib/python3.10/dist-packages (from torch>=1.6.0->sentence-transformers==2.2.2) (2.1.0)\n",
            "Requirement already satisfied: nvidia-nvjitlink-cu12 in /usr/local/lib/python3.10/dist-packages (from nvidia-cusolver-cu12==11.4.5.107->torch>=1.6.0->sentence-transformers==2.2.2) (12.5.40)\n",
            "Requirement already satisfied: regex!=2019.12.17 in /usr/local/lib/python3.10/dist-packages (from transformers<5.0.0,>=4.6.0->sentence-transformers==2.2.2) (2024.5.15)\n",
            "Requirement already satisfied: tokenizers<0.19,>=0.14 in /usr/local/lib/python3.10/dist-packages (from transformers<5.0.0,>=4.6.0->sentence-transformers==2.2.2) (0.15.2)\n",
            "Requirement already satisfied: safetensors>=0.3.1 in /usr/local/lib/python3.10/dist-packages (from transformers<5.0.0,>=4.6.0->sentence-transformers==2.2.2) (0.4.3)\n",
            "Requirement already satisfied: click in /usr/local/lib/python3.10/dist-packages (from nltk->sentence-transformers==2.2.2) (8.1.7)\n",
            "Requirement already satisfied: joblib in /usr/local/lib/python3.10/dist-packages (from nltk->sentence-transformers==2.2.2) (1.4.2)\n",
            "Requirement already satisfied: threadpoolctl>=2.0.0 in /usr/local/lib/python3.10/dist-packages (from scikit-learn->sentence-transformers==2.2.2) (3.5.0)\n",
            "Collecting torch>=1.6.0 (from sentence-transformers==2.2.2)\n",
            "  Using cached torch-2.3.0-cp310-cp310-manylinux1_x86_64.whl (779.1 MB)\n",
            "Requirement already satisfied: pillow!=8.3.*,>=5.3.0 in /usr/local/lib/python3.10/dist-packages (from torchvision->sentence-transformers==2.2.2) (9.4.0)\n",
            "Collecting nvidia-nccl-cu12==2.20.5 (from torch>=1.6.0->sentence-transformers==2.2.2)\n",
            "  Using cached nvidia_nccl_cu12-2.20.5-py3-none-manylinux2014_x86_64.whl (176.2 MB)\n",
            "Collecting triton==2.3.0 (from torch>=1.6.0->sentence-transformers==2.2.2)\n",
            "  Using cached triton-2.3.0-cp310-cp310-manylinux_2_17_x86_64.manylinux2014_x86_64.whl (168.1 MB)\n",
            "Requirement already satisfied: MarkupSafe>=2.0 in /usr/local/lib/python3.10/dist-packages (from jinja2->torch>=1.6.0->sentence-transformers==2.2.2) (2.1.5)\n",
            "Requirement already satisfied: charset-normalizer<4,>=2 in /usr/local/lib/python3.10/dist-packages (from requests->huggingface-hub>=0.4.0->sentence-transformers==2.2.2) (3.3.2)\n",
            "Requirement already satisfied: idna<4,>=2.5 in /usr/local/lib/python3.10/dist-packages (from requests->huggingface-hub>=0.4.0->sentence-transformers==2.2.2) (3.7)\n",
            "Requirement already satisfied: urllib3<3,>=1.21.1 in /usr/local/lib/python3.10/dist-packages (from requests->huggingface-hub>=0.4.0->sentence-transformers==2.2.2) (2.0.7)\n",
            "Requirement already satisfied: certifi>=2017.4.17 in /usr/local/lib/python3.10/dist-packages (from requests->huggingface-hub>=0.4.0->sentence-transformers==2.2.2) (2024.6.2)\n",
            "Requirement already satisfied: mpmath<1.4.0,>=1.1.0 in /usr/local/lib/python3.10/dist-packages (from sympy->torch>=1.6.0->sentence-transformers==2.2.2) (1.3.0)\n",
            "Installing collected packages: triton, nvidia-nccl-cu12, torch\n",
            "  Attempting uninstall: triton\n",
            "    Found existing installation: triton 2.1.0\n",
            "    Uninstalling triton-2.1.0:\n",
            "      Successfully uninstalled triton-2.1.0\n",
            "  Attempting uninstall: nvidia-nccl-cu12\n",
            "    Found existing installation: nvidia-nccl-cu12 2.18.1\n",
            "    Uninstalling nvidia-nccl-cu12-2.18.1:\n",
            "      Successfully uninstalled nvidia-nccl-cu12-2.18.1\n",
            "  Attempting uninstall: torch\n",
            "    Found existing installation: torch 2.1.2\n",
            "    Uninstalling torch-2.1.2:\n",
            "      Successfully uninstalled torch-2.1.2\n",
            "Successfully installed nvidia-nccl-cu12-2.20.5 torch-2.3.0 triton-2.3.0\n",
            "Requirement already satisfied: huggingface_hub in /usr/local/lib/python3.10/dist-packages (0.23.3)\n",
            "Requirement already satisfied: filelock in /usr/local/lib/python3.10/dist-packages (from huggingface_hub) (3.14.0)\n",
            "Requirement already satisfied: fsspec>=2023.5.0 in /usr/local/lib/python3.10/dist-packages (from huggingface_hub) (2023.6.0)\n",
            "Requirement already satisfied: packaging>=20.9 in /usr/local/lib/python3.10/dist-packages (from huggingface_hub) (23.2)\n",
            "Requirement already satisfied: pyyaml>=5.1 in /usr/local/lib/python3.10/dist-packages (from huggingface_hub) (6.0.1)\n",
            "Requirement already satisfied: requests in /usr/local/lib/python3.10/dist-packages (from huggingface_hub) (2.31.0)\n",
            "Requirement already satisfied: tqdm>=4.42.1 in /usr/local/lib/python3.10/dist-packages (from huggingface_hub) (4.66.4)\n",
            "Requirement already satisfied: typing-extensions>=3.7.4.3 in /usr/local/lib/python3.10/dist-packages (from huggingface_hub) (4.12.2)\n",
            "Requirement already satisfied: charset-normalizer<4,>=2 in /usr/local/lib/python3.10/dist-packages (from requests->huggingface_hub) (3.3.2)\n",
            "Requirement already satisfied: idna<4,>=2.5 in /usr/local/lib/python3.10/dist-packages (from requests->huggingface_hub) (3.7)\n",
            "Requirement already satisfied: urllib3<3,>=1.21.1 in /usr/local/lib/python3.10/dist-packages (from requests->huggingface_hub) (2.0.7)\n",
            "Requirement already satisfied: certifi>=2017.4.17 in /usr/local/lib/python3.10/dist-packages (from requests->huggingface_hub) (2024.6.2)\n",
            "Requirement already satisfied: accelerate in /usr/local/lib/python3.10/dist-packages (0.31.0)\n",
            "Requirement already satisfied: numpy>=1.17 in /usr/local/lib/python3.10/dist-packages (from accelerate) (1.25.2)\n",
            "Requirement already satisfied: packaging>=20.0 in /usr/local/lib/python3.10/dist-packages (from accelerate) (23.2)\n",
            "Requirement already satisfied: psutil in /usr/local/lib/python3.10/dist-packages (from accelerate) (5.9.5)\n",
            "Requirement already satisfied: pyyaml in /usr/local/lib/python3.10/dist-packages (from accelerate) (6.0.1)\n",
            "Requirement already satisfied: torch>=1.10.0 in /usr/local/lib/python3.10/dist-packages (from accelerate) (2.3.0)\n",
            "Requirement already satisfied: huggingface-hub in /usr/local/lib/python3.10/dist-packages (from accelerate) (0.23.3)\n",
            "Requirement already satisfied: safetensors>=0.3.1 in /usr/local/lib/python3.10/dist-packages (from accelerate) (0.4.3)\n",
            "Requirement already satisfied: filelock in /usr/local/lib/python3.10/dist-packages (from torch>=1.10.0->accelerate) (3.14.0)\n",
            "Requirement already satisfied: typing-extensions>=4.8.0 in /usr/local/lib/python3.10/dist-packages (from torch>=1.10.0->accelerate) (4.12.2)\n",
            "Requirement already satisfied: sympy in /usr/local/lib/python3.10/dist-packages (from torch>=1.10.0->accelerate) (1.12.1)\n",
            "Requirement already satisfied: networkx in /usr/local/lib/python3.10/dist-packages (from torch>=1.10.0->accelerate) (3.3)\n",
            "Requirement already satisfied: jinja2 in /usr/local/lib/python3.10/dist-packages (from torch>=1.10.0->accelerate) (3.1.4)\n",
            "Requirement already satisfied: fsspec in /usr/local/lib/python3.10/dist-packages (from torch>=1.10.0->accelerate) (2023.6.0)\n",
            "Requirement already satisfied: nvidia-cuda-nvrtc-cu12==12.1.105 in /usr/local/lib/python3.10/dist-packages (from torch>=1.10.0->accelerate) (12.1.105)\n",
            "Requirement already satisfied: nvidia-cuda-runtime-cu12==12.1.105 in /usr/local/lib/python3.10/dist-packages (from torch>=1.10.0->accelerate) (12.1.105)\n",
            "Requirement already satisfied: nvidia-cuda-cupti-cu12==12.1.105 in /usr/local/lib/python3.10/dist-packages (from torch>=1.10.0->accelerate) (12.1.105)\n",
            "Requirement already satisfied: nvidia-cudnn-cu12==8.9.2.26 in /usr/local/lib/python3.10/dist-packages (from torch>=1.10.0->accelerate) (8.9.2.26)\n",
            "Requirement already satisfied: nvidia-cublas-cu12==12.1.3.1 in /usr/local/lib/python3.10/dist-packages (from torch>=1.10.0->accelerate) (12.1.3.1)\n",
            "Requirement already satisfied: nvidia-cufft-cu12==11.0.2.54 in /usr/local/lib/python3.10/dist-packages (from torch>=1.10.0->accelerate) (11.0.2.54)\n",
            "Requirement already satisfied: nvidia-curand-cu12==10.3.2.106 in /usr/local/lib/python3.10/dist-packages (from torch>=1.10.0->accelerate) (10.3.2.106)\n",
            "Requirement already satisfied: nvidia-cusolver-cu12==11.4.5.107 in /usr/local/lib/python3.10/dist-packages (from torch>=1.10.0->accelerate) (11.4.5.107)\n",
            "Requirement already satisfied: nvidia-cusparse-cu12==12.1.0.106 in /usr/local/lib/python3.10/dist-packages (from torch>=1.10.0->accelerate) (12.1.0.106)\n",
            "Requirement already satisfied: nvidia-nccl-cu12==2.20.5 in /usr/local/lib/python3.10/dist-packages (from torch>=1.10.0->accelerate) (2.20.5)\n",
            "Requirement already satisfied: nvidia-nvtx-cu12==12.1.105 in /usr/local/lib/python3.10/dist-packages (from torch>=1.10.0->accelerate) (12.1.105)\n",
            "Requirement already satisfied: triton==2.3.0 in /usr/local/lib/python3.10/dist-packages (from torch>=1.10.0->accelerate) (2.3.0)\n",
            "Requirement already satisfied: nvidia-nvjitlink-cu12 in /usr/local/lib/python3.10/dist-packages (from nvidia-cusolver-cu12==11.4.5.107->torch>=1.10.0->accelerate) (12.5.40)\n",
            "Requirement already satisfied: requests in /usr/local/lib/python3.10/dist-packages (from huggingface-hub->accelerate) (2.31.0)\n",
            "Requirement already satisfied: tqdm>=4.42.1 in /usr/local/lib/python3.10/dist-packages (from huggingface-hub->accelerate) (4.66.4)\n",
            "Requirement already satisfied: MarkupSafe>=2.0 in /usr/local/lib/python3.10/dist-packages (from jinja2->torch>=1.10.0->accelerate) (2.1.5)\n",
            "Requirement already satisfied: charset-normalizer<4,>=2 in /usr/local/lib/python3.10/dist-packages (from requests->huggingface-hub->accelerate) (3.3.2)\n",
            "Requirement already satisfied: idna<4,>=2.5 in /usr/local/lib/python3.10/dist-packages (from requests->huggingface-hub->accelerate) (3.7)\n",
            "Requirement already satisfied: urllib3<3,>=1.21.1 in /usr/local/lib/python3.10/dist-packages (from requests->huggingface-hub->accelerate) (2.0.7)\n",
            "Requirement already satisfied: certifi>=2017.4.17 in /usr/local/lib/python3.10/dist-packages (from requests->huggingface-hub->accelerate) (2024.6.2)\n",
            "Requirement already satisfied: mpmath<1.4.0,>=1.1.0 in /usr/local/lib/python3.10/dist-packages (from sympy->torch>=1.10.0->accelerate) (1.3.0)\n",
            "Collecting torch~=2.1.2\n",
            "  Using cached torch-2.1.2-cp310-cp310-manylinux1_x86_64.whl (670.2 MB)\n",
            "Requirement already satisfied: filelock in /usr/local/lib/python3.10/dist-packages (from torch~=2.1.2) (3.14.0)\n",
            "Requirement already satisfied: typing-extensions in /usr/local/lib/python3.10/dist-packages (from torch~=2.1.2) (4.12.2)\n",
            "Requirement already satisfied: sympy in /usr/local/lib/python3.10/dist-packages (from torch~=2.1.2) (1.12.1)\n",
            "Requirement already satisfied: networkx in /usr/local/lib/python3.10/dist-packages (from torch~=2.1.2) (3.3)\n",
            "Requirement already satisfied: jinja2 in /usr/local/lib/python3.10/dist-packages (from torch~=2.1.2) (3.1.4)\n",
            "Requirement already satisfied: fsspec in /usr/local/lib/python3.10/dist-packages (from torch~=2.1.2) (2023.6.0)\n",
            "Requirement already satisfied: nvidia-cuda-nvrtc-cu12==12.1.105 in /usr/local/lib/python3.10/dist-packages (from torch~=2.1.2) (12.1.105)\n",
            "Requirement already satisfied: nvidia-cuda-runtime-cu12==12.1.105 in /usr/local/lib/python3.10/dist-packages (from torch~=2.1.2) (12.1.105)\n",
            "Requirement already satisfied: nvidia-cuda-cupti-cu12==12.1.105 in /usr/local/lib/python3.10/dist-packages (from torch~=2.1.2) (12.1.105)\n",
            "Requirement already satisfied: nvidia-cudnn-cu12==8.9.2.26 in /usr/local/lib/python3.10/dist-packages (from torch~=2.1.2) (8.9.2.26)\n",
            "Requirement already satisfied: nvidia-cublas-cu12==12.1.3.1 in /usr/local/lib/python3.10/dist-packages (from torch~=2.1.2) (12.1.3.1)\n",
            "Requirement already satisfied: nvidia-cufft-cu12==11.0.2.54 in /usr/local/lib/python3.10/dist-packages (from torch~=2.1.2) (11.0.2.54)\n",
            "Requirement already satisfied: nvidia-curand-cu12==10.3.2.106 in /usr/local/lib/python3.10/dist-packages (from torch~=2.1.2) (10.3.2.106)\n",
            "Requirement already satisfied: nvidia-cusolver-cu12==11.4.5.107 in /usr/local/lib/python3.10/dist-packages (from torch~=2.1.2) (11.4.5.107)\n",
            "Requirement already satisfied: nvidia-cusparse-cu12==12.1.0.106 in /usr/local/lib/python3.10/dist-packages (from torch~=2.1.2) (12.1.0.106)\n",
            "Collecting nvidia-nccl-cu12==2.18.1 (from torch~=2.1.2)\n",
            "  Using cached nvidia_nccl_cu12-2.18.1-py3-none-manylinux1_x86_64.whl (209.8 MB)\n",
            "Requirement already satisfied: nvidia-nvtx-cu12==12.1.105 in /usr/local/lib/python3.10/dist-packages (from torch~=2.1.2) (12.1.105)\n",
            "Collecting triton==2.1.0 (from torch~=2.1.2)\n",
            "  Using cached triton-2.1.0-0-cp310-cp310-manylinux2014_x86_64.manylinux_2_17_x86_64.whl (89.2 MB)\n",
            "Requirement already satisfied: nvidia-nvjitlink-cu12 in /usr/local/lib/python3.10/dist-packages (from nvidia-cusolver-cu12==11.4.5.107->torch~=2.1.2) (12.5.40)\n",
            "Requirement already satisfied: MarkupSafe>=2.0 in /usr/local/lib/python3.10/dist-packages (from jinja2->torch~=2.1.2) (2.1.5)\n",
            "Requirement already satisfied: mpmath<1.4.0,>=1.1.0 in /usr/local/lib/python3.10/dist-packages (from sympy->torch~=2.1.2) (1.3.0)\n",
            "Installing collected packages: triton, nvidia-nccl-cu12, torch\n",
            "  Attempting uninstall: triton\n",
            "    Found existing installation: triton 2.3.0\n",
            "    Uninstalling triton-2.3.0:\n",
            "      Successfully uninstalled triton-2.3.0\n",
            "  Attempting uninstall: nvidia-nccl-cu12\n",
            "    Found existing installation: nvidia-nccl-cu12 2.20.5\n",
            "    Uninstalling nvidia-nccl-cu12-2.20.5:\n",
            "      Successfully uninstalled nvidia-nccl-cu12-2.20.5\n",
            "  Attempting uninstall: torch\n",
            "    Found existing installation: torch 2.3.0\n",
            "    Uninstalling torch-2.3.0:\n",
            "      Successfully uninstalled torch-2.3.0\n",
            "\u001b[31mERROR: pip's dependency resolver does not currently take into account all the packages that are installed. This behaviour is the source of the following dependency conflicts.\n",
            "torchaudio 2.3.0+cu121 requires torch==2.3.0, but you have torch 2.1.2 which is incompatible.\n",
            "torchtext 0.18.0 requires torch>=2.3.0, but you have torch 2.1.2 which is incompatible.\n",
            "torchvision 0.18.0+cu121 requires torch==2.3.0, but you have torch 2.1.2 which is incompatible.\u001b[0m\u001b[31m\n",
            "\u001b[0mSuccessfully installed nvidia-nccl-cu12-2.18.1 torch-2.1.2 triton-2.1.0\n",
            "Requirement already satisfied: transformers~=4.36.2 in /usr/local/lib/python3.10/dist-packages (4.36.2)\n",
            "Requirement already satisfied: filelock in /usr/local/lib/python3.10/dist-packages (from transformers~=4.36.2) (3.14.0)\n",
            "Requirement already satisfied: huggingface-hub<1.0,>=0.19.3 in /usr/local/lib/python3.10/dist-packages (from transformers~=4.36.2) (0.23.3)\n",
            "Requirement already satisfied: numpy>=1.17 in /usr/local/lib/python3.10/dist-packages (from transformers~=4.36.2) (1.25.2)\n",
            "Requirement already satisfied: packaging>=20.0 in /usr/local/lib/python3.10/dist-packages (from transformers~=4.36.2) (23.2)\n",
            "Requirement already satisfied: pyyaml>=5.1 in /usr/local/lib/python3.10/dist-packages (from transformers~=4.36.2) (6.0.1)\n",
            "Requirement already satisfied: regex!=2019.12.17 in /usr/local/lib/python3.10/dist-packages (from transformers~=4.36.2) (2024.5.15)\n",
            "Requirement already satisfied: requests in /usr/local/lib/python3.10/dist-packages (from transformers~=4.36.2) (2.31.0)\n",
            "Requirement already satisfied: tokenizers<0.19,>=0.14 in /usr/local/lib/python3.10/dist-packages (from transformers~=4.36.2) (0.15.2)\n",
            "Requirement already satisfied: safetensors>=0.3.1 in /usr/local/lib/python3.10/dist-packages (from transformers~=4.36.2) (0.4.3)\n",
            "Requirement already satisfied: tqdm>=4.27 in /usr/local/lib/python3.10/dist-packages (from transformers~=4.36.2) (4.66.4)\n",
            "Requirement already satisfied: fsspec>=2023.5.0 in /usr/local/lib/python3.10/dist-packages (from huggingface-hub<1.0,>=0.19.3->transformers~=4.36.2) (2023.6.0)\n",
            "Requirement already satisfied: typing-extensions>=3.7.4.3 in /usr/local/lib/python3.10/dist-packages (from huggingface-hub<1.0,>=0.19.3->transformers~=4.36.2) (4.12.2)\n",
            "Requirement already satisfied: charset-normalizer<4,>=2 in /usr/local/lib/python3.10/dist-packages (from requests->transformers~=4.36.2) (3.3.2)\n",
            "Requirement already satisfied: idna<4,>=2.5 in /usr/local/lib/python3.10/dist-packages (from requests->transformers~=4.36.2) (3.7)\n",
            "Requirement already satisfied: urllib3<3,>=1.21.1 in /usr/local/lib/python3.10/dist-packages (from requests->transformers~=4.36.2) (2.0.7)\n",
            "Requirement already satisfied: certifi>=2017.4.17 in /usr/local/lib/python3.10/dist-packages (from requests->transformers~=4.36.2) (2024.6.2)\n",
            "Requirement already satisfied: faiss-gpu in /usr/local/lib/python3.10/dist-packages (1.7.2)\n"
          ]
        }
      ],
      "source": [
        "#Install all the dependencies\n",
        "!pip install  langchain~=0.0.352\n",
        "!pip install  pypdf\n",
        "!pip install  sentence-transformers==2.2.2\n",
        "!pip install  huggingface_hub\n",
        "!pip install  accelerate\n",
        "!pip install  torch~=2.1.2\n",
        "!pip install  transformers~=4.36.2\n",
        "\n",
        "!pip install faiss-gpu\n",
        "#!pip install faiss-cpu"
      ]
    },
    {
      "cell_type": "markdown",
      "metadata": {
        "id": "L5k0-t3cEtQy"
      },
      "source": [
        "## Import Modules"
      ]
    },
    {
      "cell_type": "code",
      "execution_count": null,
      "metadata": {
        "id": "_bw74onHEtQy"
      },
      "outputs": [],
      "source": [
        "#Langchain modules\n",
        "# from langchain import document_loaders as dl\n",
        "from langchain import embeddings\n",
        "from langchain import text_splitter as ts\n",
        "from langchain import vectorstores as vs\n",
        "from langchain.llms import HuggingFacePipeline\n",
        "from langchain.embeddings import HuggingFaceEmbeddings\n",
        "from langchain.schema import StrOutputParser\n",
        "from langchain.schema.runnable import RunnablePassthrough\n",
        "from langchain.schema.runnable import RunnableParallel\n",
        "from langchain.prompts import PromptTemplate\n",
        "from operator import itemgetter\n",
        "#Torch + transformers\n",
        "import torch\n",
        "from transformers import pipeline\n",
        "from transformers import AutoTokenizer, AutoModelForCausalLM\n",
        "#Other useful modules\n",
        "import re\n",
        "import time\n"
      ]
    },
    {
      "cell_type": "markdown",
      "metadata": {
        "id": "txFmEBr6EtQy"
      },
      "source": [
        "## Vector Database Load"
      ]
    },
    {
      "cell_type": "code",
      "execution_count": null,
      "metadata": {
        "id": "91E96JixEtQy"
      },
      "outputs": [],
      "source": [
        "from langchain.embeddings import HuggingFaceEmbeddings\n",
        "embeddings_model = HuggingFaceEmbeddings(model_name=\"sentence-transformers/all-MiniLM-L6-v2\",\n",
        "                                         model_kwargs={\"device\": \"cpu\"},\n",
        "                                         encode_kwargs={'normalize_embeddings':False})"
      ]
    },
    {
      "cell_type": "code",
      "execution_count": null,
      "metadata": {
        "id": "uJwqP3cTEtQy"
      },
      "outputs": [],
      "source": [
        "from langchain_community.vectorstores import FAISS\n",
        "db = FAISS.load_local('data/faiss_index',embeddings_model)#,allow_dangerous_deserialization=True)\n"
      ]
    },
    {
      "cell_type": "code",
      "execution_count": null,
      "metadata": {
        "colab": {
          "base_uri": "https://localhost:8080/"
        },
        "id": "licL3i29EtQz",
        "outputId": "c8685dad-0368-4221-9795-b3fcfb4a1f9b"
      },
      "outputs": [
        {
          "output_type": "stream",
          "name": "stdout",
          "text": [
            "Similarity Score:  0.8085871\n",
            "traffic capacity, user density, latency, reliability, and availability. These capabilities are always provided based on a Service \n",
            "Level Agreement (SLA) between the mobile operator and the business customer, which brought up interest for \n",
            "mechanisms to ensure slice SLAs and prevent its possible violations. O-RAN’s open interfaces and AI/ML based \n",
            "architecture will enable such challenging mechanisms to be implemented and help pave the way for operators to realize \n",
            "the opportunities of network slicing in an efficient manner.   \n",
            "4.9.3 Proposed Solution \n",
            "As shown in figure 4.9.3-1, RAN slice SLA assurance scenario involves Non-RT RIC, Near-RT RIC, E2 Nodes and SMO \n",
            "interaction.  The scenario starts with the retrieval of RAN specific slice SLA/requirements (possibly within SMO or from \n",
            "NSSMF depending on Operator deployment options). Based on slice specific performance measurements from E2 Nodes, \n",
            "Non-RT RIC and Near-RT RIC can fine-tune RAN behavior aligned with O-RAN architectural roles to assure RAN slice \n",
            "SLAs dynamically. Non-RT RIC monitors long-term trends and patterns for RAN slice subnets’ performance, and employs \n",
            "AI/ML methods to perform corrective actions through SMO (e.g. reconfiguration via O1) or via creation of A1 policies. \n",
            "Non-RT RIC can also construct/train relevant AI/ML models that will be deployed at Near-RT RIC. A1 policies possibly \n",
            "include scope identifiers (e.g. S-NSSAI) and statements such as KPI targets. On the other hand, Near-RT RIC enables \n",
            "optimized RAN actions through execution of deployed AI/ML models in near-real-time by considering both O1 \n",
            "configuration (e.g. static RRM policies) and received A1 policies, as well as received slice specific E2 measurements. \n",
            " \n",
            " \n",
            "Figure 4.9.3-1: Slice SLA Assurance \n",
            "4.9.4 Benefits of O-RAN Architecture \n",
            "Current standardization efforts focus on defining business and system requirements, slice management functionalities and\n",
            "-----------------------------\n",
            "Similarity Score:  0.8070006\n",
            "Level Agreement (SLA) between the mobile operator and the business customer, which brought up interest for \n",
            "mechanisms to ensure slice SLAs and prevent its possible violations. O-RAN’s open interfaces and AI/ML based \n",
            "architecture will enable such challenging mechanisms to be implemented and help pave the way for operators to realize \n",
            "the opportunities of network slicing in an efficient manner.   \n",
            "RAN slice SLA assurance scenario involves Non-RT RIC, Near-RT RIC, E2 Nodes and SMO interaction.  The scenario \n",
            "starts with the retrieval of RAN specific slice SLA/requirements (possibly within SMO or from NSSMF depending on \n",
            "Operator deployment options). Based on slice specific performance measurements from E2 Nodes, Non-RT RIC and \n",
            "Near-RT RIC can fine-tune RAN behavior aligned with O-RAN architectural roles to assure RAN slice SLAs. Non-RT \n",
            "RIC monitors long-term trends and patterns for RAN slice subnets’ performance, and employs AI/ML methods to perform \n",
            "corrective actions through SMO (e.g. reconfiguration via O1) or via creation of A1 policies. Non-RT RIC can also \n",
            "construct/train relevant AI/ML models that will be deployed at Near-RT RIC. A1 policies possibly include scope \n",
            "identifiers (e.g. S-NSSAI) and statements such as KPI targets. On the other hand, Near-RT RIC enables optimized RAN \n",
            "actions through execution of deployed AI/ML models in near-real-time by considering both O1 configuration (e.g. static \n",
            "RRM policies) and received A1 policies, as well as received slice specific E2 measurements. \n",
            "An overview of RAN Slice SLA Assurance use case is given in figure 5.3.1-1. \n",
            " \n",
            " \n",
            "Figure 5.3.1-1: RAN Slice SLA Assurance use case overview \n",
            "The more detailed functions provided by the entities for RAN slice SLA assurance are listed as below:  \n",
            "1) SMO \n",
            "a) Provides information about slice topology and SLA associated with the slice to the Non-RT RIC \n",
            "2) Non-RT RIC:  \n",
            "a) Retrieve RAN slice SLA target from respective entities such as SMO, NSSMF\n",
            "-----------------------------\n",
            "Similarity Score:  0.73344827\n",
            "Figure 4.9.3-1: Slice SLA Assurance \n",
            "4.9.4 Benefits of O-RAN Architecture \n",
            "Current standardization efforts focus on defining business and system requirements, slice management functionalities and \n",
            "procedures, and possible RRM policies on shared resources without specifying how such a flexible envisioned system \n",
            "can be addressed within 5G RAN. Considering the dynamic nature of RAN, providing desired levels of service quality \n",
            "for each RAN slice is a challenging topic that requires further investigation and standardization efforts for a multi-vendor \n",
            "open RAN environment. O-RAN’s open interfaces combined with its AI/ML based innovative architecture can enable \n",
            "such RAN SLA assurance mechanisms, which could potentially change the way network operators do their business and \n",
            "also enable new business models. For example, O-RAN architecture and interfaces can enable operators to manage \n",
            "spectrum resource allocation across slices more efficiently and dynamically in response to usage patterns, thereby \n",
            "allowing more efficient use of spectrum resources. \n",
            " \n",
            " \n",
            "4.10 Use case 10: Multi-vendor Slices \n",
            "4.10.1 Background Information \n",
            "This use case enables multiple slices with functions provided by multi-vendors, such as slice #1, composed of DU(s) and \n",
            "CU(s), provided by vendor A and slice #2, composed of DU(s) and CU(s), provided by vendor B.  \n",
            "4.10.2 Motivation \n",
            "When providing multiple slices, it is assumed that suitable vO-DU/scheduler and vO-CU treat each slice respectively. A \n",
            "vendor who provides vO-DU and vO-CU function can have a strength of a customized scheduler for a certain service. \n",
            "With accomplishment of multi-vendor circumstances, following benefits can be expected: \n",
            "1) More flexible and time to market deployment \n",
            "Operators can maximize options to choose suitable vO-DU/scheduler and vO-CU to offer various slices.  For \n",
            "example, some vendors can have a strength of a scheduler for eMBB service and the other can have a strength of\n",
            "-----------------------------\n",
            "Similarity Score:  0.6973235\n",
            "e) Support interpretation and execution of policies from Non-RT RIC \n",
            "f) Perform optimized RAN (E2) actions to achieve RAN slice requirements based on O1 configuration, A1 policy, \n",
            "and E2 reports \n",
            "3) RAN: \n",
            "a) Support slice assurance actions such as slice-aware resource allocation, prioritization, etc. \n",
            " \n",
            "b) Support slice specific performance measurements through O1 \n",
            "c) Support slice specific performance reports through E2  \n",
            "4.9.3 Solutions \n",
            "4.9.3.1 Creation and deployment of RAN slice SLA assurance models and control apps \n",
            "The context of the creation and deployment of RAN slice SLA assurance models and control apps is captured in table \n",
            "4.9.3-1. \n",
            "Table 4.9.3-1: Creation and deployment of RAN slice SLA assurance models and control apps \n",
            "Use Case Stage Evolution / Specification \n",
            "<<Uses>> \n",
            "Related use  \n",
            "Goal Training and distribution of the model, or distribution of control apps  \n",
            "Actors and Roles Non-RT RIC, Near-RT RIC, SMO  \n",
            "Assumptions \n",
            "All relevant functions and components are instantiated.  \n",
            "A1, O1 interface connectivity is established. \n",
            " \n",
            "Pre conditions \n",
            "Near-RT RIC and Non-RT RIC are instantiated with A1 interface and \n",
            "connectivity has been established between them. \n",
            "O1 interface has been established between SMO and Near-RT RIC. \n",
            " \n",
            "Begins when  A RAN slice is activated.  \n",
            "Step 1 (M) Non-RT RIC retrieves a RAN slice SLA from SMO (NSSMF).  \n",
            "Step 2a \n",
            "Non-RT RIC starts to collect performance measurements (PMs) via O1. \n",
            "Examples of the PMs are CSI, PRB usage, L2 throughput, RAN latency, etc. \n",
            "Applicable PMs are specified in 3GPP TS 28.552 [6].  \n",
            "Step 2 and 3 \n",
            "are mandatory \n",
            "in case of using \n",
            "the AI/ML \n",
            "model \n",
            "Step 2b (O) \n",
            "Non-RT RIC starts to collect enrichment information (EIs) from external \n",
            "applications. Examples of the external applications are public safety \n",
            "application triggering slice priority during an emergency event, or location-\n",
            "based enrichment information, etc. \n",
            " \n",
            "Step 2c \n",
            "Non-RT RIC analyzes collected PMs and/or EIs for long term monitoring,\n",
            "-----------------------------\n"
          ]
        }
      ],
      "source": [
        "query = \"What is RAN Slice SLA Assurance\"\n",
        "docs = db.similarity_search_with_score(query)\n",
        "\n",
        "#Sort the documents by similarity score\n",
        "docs = sorted(docs,key=lambda x:x[1],reverse=True)\n",
        "\n",
        "for doc in docs:\n",
        "    print(\"Similarity Score: \",doc[1])\n",
        "    print(doc[0].page_content)\n",
        "    print('-----------------------------')"
      ]
    },
    {
      "cell_type": "markdown",
      "metadata": {
        "id": "QzC9ClpbEtQz"
      },
      "source": [
        "## LLM Load"
      ]
    },
    {
      "cell_type": "code",
      "execution_count": null,
      "metadata": {
        "colab": {
          "base_uri": "https://localhost:8080/"
        },
        "id": "xyDdmPiZEtQz",
        "outputId": "535815a4-ddbe-45d7-ef9a-08fa133d1513"
      },
      "outputs": [
        {
          "output_type": "stream",
          "name": "stdout",
          "text": [
            "4.36.2\n"
          ]
        }
      ],
      "source": [
        "import transformers\n",
        "print(transformers.__version__)"
      ]
    },
    {
      "cell_type": "markdown",
      "metadata": {
        "id": "7KRQRWLHEtQz"
      },
      "source": [
        "## Zephyr-7b-beta"
      ]
    },
    {
      "cell_type": "code",
      "execution_count": null,
      "metadata": {
        "colab": {
          "base_uri": "https://localhost:8080/",
          "height": 260,
          "referenced_widgets": [
            "02788c598a01485e8808ccede697360d",
            "25dd202e4acc47deb1ab0d7aee2a4a45",
            "33476325dc7648d8bf2b50d36d18a23e",
            "c4d8a4a8cfa9430fbbaa873b89ff4453",
            "7be8d49296fc4c1ebcca1e926e854cbb",
            "c9664c936fc94f8cab7a729ed20c90b6",
            "d34e6ea118314dcb9e2c2bf93cbaca70",
            "25c5d26faa2d4ee6b8b0413584d11198",
            "e8456720c633425386e4bd429cff932d",
            "93fe0d4f2e18418886269c9da1155826",
            "b4d087c34ebd437698882034217085ca"
          ]
        },
        "id": "EzyWIbZUEtQz",
        "outputId": "bba3f722-397b-4779-f725-77b48f9b86b5"
      },
      "outputs": [
        {
          "output_type": "stream",
          "name": "stderr",
          "text": [
            "/usr/local/lib/python3.10/dist-packages/huggingface_hub/file_download.py:1132: FutureWarning: `resume_download` is deprecated and will be removed in version 1.0.0. Downloads always resume when possible. If you want to force a new download, use `force_download=True`.\n",
            "  warnings.warn(\n",
            "/usr/local/lib/python3.10/dist-packages/huggingface_hub/utils/_token.py:89: UserWarning: \n",
            "The secret `HF_TOKEN` does not exist in your Colab secrets.\n",
            "To authenticate with the Hugging Face Hub, create a token in your settings tab (https://huggingface.co/settings/tokens), set it as secret in your Google Colab and restart your session.\n",
            "You will be able to reuse this secret in all of your notebooks.\n",
            "Please note that authentication is recommended but still optional to access public models or datasets.\n",
            "  warnings.warn(\n",
            "Special tokens have been added in the vocabulary, make sure the associated word embeddings are fine-tuned or trained.\n",
            "WARNING:transformers_modules.microsoft.Phi-3-mini-128k-instruct.bb5bf1e4001277a606e11debca0ef80323e5f824.modeling_phi3:`flash-attention` package not found, consider installing for better performance: No module named 'flash_attn'.\n",
            "WARNING:transformers_modules.microsoft.Phi-3-mini-128k-instruct.bb5bf1e4001277a606e11debca0ef80323e5f824.modeling_phi3:Current `flash-attenton` does not support `window_size`. Either upgrade or use `attn_implementation='eager'`.\n"
          ]
        },
        {
          "output_type": "display_data",
          "data": {
            "text/plain": [
              "Loading checkpoint shards:   0%|          | 0/2 [00:00<?, ?it/s]"
            ],
            "application/vnd.jupyter.widget-view+json": {
              "version_major": 2,
              "version_minor": 0,
              "model_id": "02788c598a01485e8808ccede697360d"
            }
          },
          "metadata": {}
        }
      ],
      "source": [
        "from transformers import pipeline, AutoTokenizer, AutoModelForCausalLM\n",
        "import torch\n",
        "# model_name = \"HuggingFaceH4/zephyr-7b-beta\"\n",
        "model_name = \"microsoft/Phi-3-mini-128k-instruct\"\n",
        "#Save the model locally.\n",
        "tokenizer = AutoTokenizer.from_pretrained(model_name)\n",
        "model = AutoModelForCausalLM.from_pretrained(model_name, low_cpu_mem_usage=True, torch_dtype=torch.float16,trust_remote_code=True)\n",
        "# model.save_pretrained(model_name, max_shard_size=\"1000MB\")\n",
        "# tokenizer.save_pretrained(f\"{model_name}-tokenizer\")\n",
        "torch.cuda.empty_cache()"
      ]
    },
    {
      "cell_type": "code",
      "source": [
        "#Create a pipeline with the local version of the model\n",
        "# tokenizer = AutoTokenizer.from_pretrained(f\"{model_name}-tokenizer\")\n",
        "pipe = pipeline(task=\"text-generation\", model=model,tokenizer=tokenizer, device=\"cuda:0\", max_new_tokens=1000)"
      ],
      "metadata": {
        "id": "1eOzCFWOx6jZ"
      },
      "execution_count": null,
      "outputs": []
    },
    {
      "cell_type": "markdown",
      "metadata": {
        "id": "IDsdjJYhEtQz"
      },
      "source": [
        "## Connect to LangChain Pipeline"
      ]
    },
    {
      "cell_type": "code",
      "execution_count": null,
      "metadata": {
        "id": "ub8UarEPEtQz"
      },
      "outputs": [],
      "source": [
        "#Use the pipeline in Langchain\n",
        "llm=HuggingFacePipeline(pipeline=pipe, model_kwargs={'temperature':0})"
      ]
    },
    {
      "cell_type": "markdown",
      "metadata": {
        "id": "ds95CuqwEtQz"
      },
      "source": [
        "## Load retriever, define prompt template, and chains"
      ]
    },
    {
      "cell_type": "code",
      "execution_count": null,
      "metadata": {
        "colab": {
          "base_uri": "https://localhost:8080/"
        },
        "id": "xaELoJhmEtQz",
        "outputId": "2e878fcb-af94-4e09-df28-4437570224d3"
      },
      "outputs": [
        {
          "output_type": "execute_result",
          "data": {
            "text/plain": [
              "[Document(page_content='e) Support interpretation and execution of policies from Non-RT RIC \\nf) Perform optimized RAN (E2) actions to achieve RAN slice requirements based on O1 configuration, A1 policy, \\nand E2 reports \\n3) RAN: \\na) Support slice assurance actions such as slice-aware resource allocation, prioritization, etc. \\n \\nb) Support slice specific performance measurements through O1 \\nc) Support slice specific performance reports through E2  \\n4.9.3 Solutions \\n4.9.3.1 Creation and deployment of RAN slice SLA assurance models and control apps \\nThe context of the creation and deployment of RAN slice SLA assurance models and control apps is captured in table \\n4.9.3-1. \\nTable 4.9.3-1: Creation and deployment of RAN slice SLA assurance models and control apps \\nUse Case Stage Evolution / Specification \\n<<Uses>> \\nRelated use  \\nGoal Training and distribution of the model, or distribution of control apps  \\nActors and Roles Non-RT RIC, Near-RT RIC, SMO  \\nAssumptions \\nAll relevant functions and components are instantiated.  \\nA1, O1 interface connectivity is established. \\n \\nPre conditions \\nNear-RT RIC and Non-RT RIC are instantiated with A1 interface and \\nconnectivity has been established between them. \\nO1 interface has been established between SMO and Near-RT RIC. \\n \\nBegins when  A RAN slice is activated.  \\nStep 1 (M) Non-RT RIC retrieves a RAN slice SLA from SMO (NSSMF).  \\nStep 2a \\nNon-RT RIC starts to collect performance measurements (PMs) via O1. \\nExamples of the PMs are CSI, PRB usage, L2 throughput, RAN latency, etc. \\nApplicable PMs are specified in 3GPP TS 28.552 [6].  \\nStep 2 and 3 \\nare mandatory \\nin case of using \\nthe AI/ML \\nmodel \\nStep 2b (O) \\nNon-RT RIC starts to collect enrichment information (EIs) from external \\napplications. Examples of the external applications are public safety \\napplication triggering slice priority during an emergency event, or location-\\nbased enrichment information, etc. \\n \\nStep 2c \\nNon-RT RIC analyzes collected PMs and/or EIs for long term monitoring,'),\n",
              " Document(page_content='Figure 4.9.3-1: Slice SLA Assurance \\n4.9.4 Benefits of O-RAN Architecture \\nCurrent standardization efforts focus on defining business and system requirements, slice management functionalities and \\nprocedures, and possible RRM policies on shared resources without specifying how such a flexible envisioned system \\ncan be addressed within 5G RAN. Considering the dynamic nature of RAN, providing desired levels of service quality \\nfor each RAN slice is a challenging topic that requires further investigation and standardization efforts for a multi-vendor \\nopen RAN environment. O-RAN’s open interfaces combined with its AI/ML based innovative architecture can enable \\nsuch RAN SLA assurance mechanisms, which could potentially change the way network operators do their business and \\nalso enable new business models. For example, O-RAN architecture and interfaces can enable operators to manage \\nspectrum resource allocation across slices more efficiently and dynamically in response to usage patterns, thereby \\nallowing more efficient use of spectrum resources. \\n \\n \\n4.10 Use case 10: Multi-vendor Slices \\n4.10.1 Background Information \\nThis use case enables multiple slices with functions provided by multi-vendors, such as slice #1, composed of DU(s) and \\nCU(s), provided by vendor A and slice #2, composed of DU(s) and CU(s), provided by vendor B.  \\n4.10.2 Motivation \\nWhen providing multiple slices, it is assumed that suitable vO-DU/scheduler and vO-CU treat each slice respectively. A \\nvendor who provides vO-DU and vO-CU function can have a strength of a customized scheduler for a certain service. \\nWith accomplishment of multi-vendor circumstances, following benefits can be expected: \\n1) More flexible and time to market deployment \\nOperators can maximize options to choose suitable vO-DU/scheduler and vO-CU to offer various slices.  For \\nexample, some vendors can have a strength of a scheduler for eMBB service and the other can have a strength of'),\n",
              " Document(page_content='Level Agreement (SLA) between the mobile operator and the business customer, which brought up interest for \\nmechanisms to ensure slice SLAs and prevent its possible violations. O-RAN’s open interfaces and AI/ML based \\narchitecture will enable such challenging mechanisms to be implemented and help pave the way for operators to realize \\nthe opportunities of network slicing in an efficient manner.   \\nRAN slice SLA assurance scenario involves Non-RT RIC, Near-RT RIC, E2 Nodes and SMO interaction.  The scenario \\nstarts with the retrieval of RAN specific slice SLA/requirements (possibly within SMO or from NSSMF depending on \\nOperator deployment options). Based on slice specific performance measurements from E2 Nodes, Non-RT RIC and \\nNear-RT RIC can fine-tune RAN behavior aligned with O-RAN architectural roles to assure RAN slice SLAs. Non-RT \\nRIC monitors long-term trends and patterns for RAN slice subnets’ performance, and employs AI/ML methods to perform \\ncorrective actions through SMO (e.g. reconfiguration via O1) or via creation of A1 policies. Non-RT RIC can also \\nconstruct/train relevant AI/ML models that will be deployed at Near-RT RIC. A1 policies possibly include scope \\nidentifiers (e.g. S-NSSAI) and statements such as KPI targets. On the other hand, Near-RT RIC enables optimized RAN \\nactions through execution of deployed AI/ML models in near-real-time by considering both O1 configuration (e.g. static \\nRRM policies) and received A1 policies, as well as received slice specific E2 measurements. \\nAn overview of RAN Slice SLA Assurance use case is given in figure 5.3.1-1. \\n \\n \\nFigure 5.3.1-1: RAN Slice SLA Assurance use case overview \\nThe more detailed functions provided by the entities for RAN slice SLA assurance are listed as below:  \\n1) SMO \\na) Provides information about slice topology and SLA associated with the slice to the Non-RT RIC \\n2) Non-RT RIC:  \\na) Retrieve RAN slice SLA target from respective entities such as SMO, NSSMF'),\n",
              " Document(page_content='traffic capacity, user density, latency, reliability, and availability. These capabilities are always provided based on a Service \\nLevel Agreement (SLA) between the mobile operator and the business customer, which brought up interest for \\nmechanisms to ensure slice SLAs and prevent its possible violations. O-RAN’s open interfaces and AI/ML based \\narchitecture will enable such challenging mechanisms to be implemented and help pave the way for operators to realize \\nthe opportunities of network slicing in an efficient manner.   \\n4.9.3 Proposed Solution \\nAs shown in figure 4.9.3-1, RAN slice SLA assurance scenario involves Non-RT RIC, Near-RT RIC, E2 Nodes and SMO \\ninteraction.  The scenario starts with the retrieval of RAN specific slice SLA/requirements (possibly within SMO or from \\nNSSMF depending on Operator deployment options). Based on slice specific performance measurements from E2 Nodes, \\nNon-RT RIC and Near-RT RIC can fine-tune RAN behavior aligned with O-RAN architectural roles to assure RAN slice \\nSLAs dynamically. Non-RT RIC monitors long-term trends and patterns for RAN slice subnets’ performance, and employs \\nAI/ML methods to perform corrective actions through SMO (e.g. reconfiguration via O1) or via creation of A1 policies. \\nNon-RT RIC can also construct/train relevant AI/ML models that will be deployed at Near-RT RIC. A1 policies possibly \\ninclude scope identifiers (e.g. S-NSSAI) and statements such as KPI targets. On the other hand, Near-RT RIC enables \\noptimized RAN actions through execution of deployed AI/ML models in near-real-time by considering both O1 \\nconfiguration (e.g. static RRM policies) and received A1 policies, as well as received slice specific E2 measurements. \\n \\n \\nFigure 4.9.3-1: Slice SLA Assurance \\n4.9.4 Benefits of O-RAN Architecture \\nCurrent standardization efforts focus on defining business and system requirements, slice management functionalities and'),\n",
              " Document(page_content='Policy \\nexecution \\nEnds when A RAN slice is deactivated  \\nExceptions FFS  \\nPost Conditions FFS  \\n \\n \\nThe flow diagram of the slow loop RAN Slice SLA optimization is given in figure 4.9.3-2. \\n \\n \\n \\n \\n \\n \\nFigure 4.9.3-2: Flow diagram, Slow loop RAN Slice SLA optimization \\n4.9.3.3 Fast loop RAN Slice SLA optimization \\nThe context of the fast loop RAN Slice SLA optimization is captured in table 4.9.3-3. \\nTable 4.9.3-3: Fast loop RAN Slice SLA optimization \\nUse Case Stage Evolution / Specification \\n<<Uses>> \\nRelated use  \\nGoal Fast loop RAN Slice SLA optimization  \\nActors and Roles Non-RT RIC, Near-RT RIC, SMO, RAN  \\n \\nUse Case Stage Evolution / Specification \\n<<Uses>> \\nRelated use  \\nAssumptions \\nAll relevant functions and components are instantiated.  \\nA1, O1, E2 interface connectivity is established. \\n \\nPre conditions \\nNear-RT RIC and Non-RT RIC are instantiated with A1 interface \\nconnectivity being established between them. \\nO1 interfaces are established between SMO and Near-RT RIC, and SMO \\nand RAN nodes. \\nRAN slice SLA assurance models or control apps have been deployed in \\nNear-RT RIC. \\n \\nBegins when  A RAN slice is activated  \\nStep 1 \\nNon-RT RIC decides to generate a policy for Near-RT RIC slice SLA \\nassurance based on RAN slice SLA requirements and/or operator-defined \\nRAN intents, A1 feedback from Near-RT RIC, EI from external app server \\nand O1 based long term trends. \\n \\nStep 2 \\nNear-RT RIC receives slice specific O1 configuration and A1 policies from \\nSMO and Non-RT RIC respectively. The former is static and default, the \\nlatter is dynamic, optimized and converted from slice SLA. The policies \\nconsist of scope identifiers (e.g. S-NSSAI, Flow ID, Cell ID) and policy \\nstatements (e.g. slice specific KPI targets).  \\nIn case of using EIs, Near-RT RIC also receives the EIs from Non-RT RIC \\nvia A1-EI interface. \\n \\nStep 3 \\nNear-RT RIC starts to collect PMs via E2. Examples of the PMs are CSI, \\nPRB usage, L2 throughput, RAN latency, etc. Applicable PMs are specified'),\n",
              " Document(page_content='defining specific slices and their Service Level Agreements (SLAs) based on application/service type [i.11]. Since \\nnetwork slicing is conceived to be an end-to-end feature that includes the core network, the transport network and the \\nradio access network (RAN), these requirements should be met at any slice subnet during the life-time of a network slice \\n[i.15], especially in RAN side. Exemplary slice performance requirements are defined in terms of throughput, energy \\nefficiency, latency and reliability at a high level in SDOs such as 3GPP [i.9] and GSMA [i.7]. These requirements are \\ndefined as a reference for SLA/contractual agreements for each slice, which individually need proper handling in NG-\\nRAN.  \\nAlthough network slicing support is started to be defined with 3GPP Release 15, slice assurance mechanisms in RAN \\nneeds to be further addressed to achieve deployable network slicing in an open RAN environment. It is necessary to assure \\nthe SLAs by dynamically controlling slice configurations based on slice specific performance information. Existing RAN \\nperformance measurements [i.17] and information model definitions [i.16] are not enough to support RAN slice SLA \\nassurance use cases. This use case is intended to clarify necessary mechanisms and parameters for RAN slice SLA \\nassurance.  \\n \\n4.9.2 Motivation \\nIn the 5G era, network slicing is a prominent feature which provides end-to-end connectivity and data processing tailored \\nto specific business requirements. These requirements include customizable network capabilities such as the support of \\nvery high data rates, traffic densities, service availability and very low latency. According to 5G standardization efforts, \\nthe 5G system can support the needs of the business through the specification of several service needs such as data rate, \\ntraffic capacity, user density, latency, reliability, and availability. These capabilities are always provided based on a Service')]"
            ]
          },
          "metadata": {},
          "execution_count": 19
        }
      ],
      "source": [
        "query = \"What is RAN Slice SLA Assurance\"\n",
        "retriever = db.as_retriever(search_type=\"similarity_score_threshold\", search_kwargs={\"k\": 6, 'score_threshold': 0.01})\n",
        "retrieved_docs = retriever.get_relevant_documents(query)\n",
        "retrieved_docs"
      ]
    },
    {
      "cell_type": "code",
      "execution_count": null,
      "metadata": {
        "id": "uR8OlaDGEtQz"
      },
      "outputs": [],
      "source": [
        "template = \"\"\"Use the following pieces of context to answer the question at the end.\n",
        "If you don't know the answer, just say that you don't know, don't try to make up an answer.\n",
        "{context}\n",
        "Question: {question}\n",
        "Helpful Answer:\"\"\"\n",
        "# template = \"\"\"<|user|>\n",
        "# Use the following pieces of context to answer the question at the end.\n",
        "# If you don't know the answer, just say that you don't know, don't try to make up an answer.\n",
        "# {context}\n",
        "# Question: {question}\n",
        "# Helpful Answer:\n",
        "# <|assistant|>\n",
        "# \"\"\"\n",
        "rag_prompt_custom = PromptTemplate.from_template(template)"
      ]
    },
    {
      "cell_type": "code",
      "execution_count": null,
      "metadata": {
        "id": "UR4DgcNcEtQz"
      },
      "outputs": [],
      "source": [
        "def format_docs(docs):\n",
        "    return \"\\n\\n\".join(doc.page_content for doc in docs)\n",
        "\n",
        "#First chain to query the LLM\n",
        "rag_chain_from_docs = (\n",
        "    {\n",
        "        \"context\": lambda input: format_docs(input[\"documents\"]),\n",
        "        \"question\": itemgetter(\"question\"),\n",
        "    }\n",
        "    | rag_prompt_custom\n",
        "    | llm\n",
        "    | StrOutputParser()\n",
        ")\n",
        "\n",
        "#Second chain to postprocess the answer\n",
        "rag_chain_with_source = RunnableParallel(\n",
        "    {\"documents\": retriever, \"question\": RunnablePassthrough()}\n",
        ") | {\n",
        "    \"documents\": lambda input: [doc.metadata for doc in input[\"documents\"]],\n",
        "    \"answer\": rag_chain_from_docs,\n",
        "}"
      ]
    },
    {
      "cell_type": "markdown",
      "metadata": {
        "id": "Z8aZt9UiEtQ0"
      },
      "source": [
        "## Query the LLM and post process the answer"
      ]
    },
    {
      "cell_type": "code",
      "execution_count": null,
      "metadata": {
        "colab": {
          "base_uri": "https://localhost:8080/"
        },
        "id": "S-aZY3GoEtQ0",
        "outputId": "9ab683db-7e44-493b-e814-294f2f71f24b"
      },
      "outputs": [
        {
          "output_type": "stream",
          "name": "stdout",
          "text": [
            " RAN Slice SLA Assurance is a use case scenario that focuses on ensuring the Service Level Agreements (SLAs) for RAN slices in an open RAN environment. It involves mechanisms and parameters for dynamically controlling slice configurations based on slice specific performance information. This use case is crucial for achieving deployable network slicing in an efficient and reliable manner.\n",
            "\n",
            "Answer: RAN Slice SLA Assurance is a use case scenario that focuses on ensuring the Service Level Agreements (SLAs) for RAN slices in an open RAN environment. It involves mechanisms and parameters for dynamically controlling slice configurations based on slice specific performance information. This use case is crucial for achieving deployable network slicing in an efficient and reliable manner.\n",
            "Sources [{}, {}, {}, {}, {}, {}]\n",
            "Response time: 20.464662313461304\n"
          ]
        }
      ],
      "source": [
        "t0=time.time()\n",
        "resp = rag_chain_with_source.invoke(query)\n",
        "if len(resp['documents'])==0:\n",
        "  print('No documents found')\n",
        "else:\n",
        "  stripped_resp = re.sub(r\"\\n+$\", \" \", resp['answer'])\n",
        "  print(stripped_resp)\n",
        "  print('Sources',resp['documents'])\n",
        "  print('Response time:', time.time()-t0)"
      ]
    },
    {
      "cell_type": "code",
      "source": [
        "resp['documents'][1]"
      ],
      "metadata": {
        "id": "O3wJnbCO2d53",
        "outputId": "f6c5b497-794e-458a-8d2f-b702ed310b0a",
        "colab": {
          "base_uri": "https://localhost:8080/"
        }
      },
      "execution_count": null,
      "outputs": [
        {
          "output_type": "execute_result",
          "data": {
            "text/plain": [
              "{}"
            ]
          },
          "metadata": {},
          "execution_count": 21
        }
      ]
    }
  ],
  "metadata": {
    "kernelspec": {
      "display_name": "Python 3",
      "name": "python3"
    },
    "language_info": {
      "codemirror_mode": {
        "name": "ipython",
        "version": 3
      },
      "file_extension": ".py",
      "mimetype": "text/x-python",
      "name": "python",
      "nbconvert_exporter": "python",
      "pygments_lexer": "ipython3",
      "version": "3.10.9"
    },
    "colab": {
      "provenance": [],
      "gpuType": "T4"
    },
    "accelerator": "GPU",
    "widgets": {
      "application/vnd.jupyter.widget-state+json": {
        "02788c598a01485e8808ccede697360d": {
          "model_module": "@jupyter-widgets/controls",
          "model_name": "HBoxModel",
          "model_module_version": "1.5.0",
          "state": {
            "_dom_classes": [],
            "_model_module": "@jupyter-widgets/controls",
            "_model_module_version": "1.5.0",
            "_model_name": "HBoxModel",
            "_view_count": null,
            "_view_module": "@jupyter-widgets/controls",
            "_view_module_version": "1.5.0",
            "_view_name": "HBoxView",
            "box_style": "",
            "children": [
              "IPY_MODEL_25dd202e4acc47deb1ab0d7aee2a4a45",
              "IPY_MODEL_33476325dc7648d8bf2b50d36d18a23e",
              "IPY_MODEL_c4d8a4a8cfa9430fbbaa873b89ff4453"
            ],
            "layout": "IPY_MODEL_7be8d49296fc4c1ebcca1e926e854cbb"
          }
        },
        "25dd202e4acc47deb1ab0d7aee2a4a45": {
          "model_module": "@jupyter-widgets/controls",
          "model_name": "HTMLModel",
          "model_module_version": "1.5.0",
          "state": {
            "_dom_classes": [],
            "_model_module": "@jupyter-widgets/controls",
            "_model_module_version": "1.5.0",
            "_model_name": "HTMLModel",
            "_view_count": null,
            "_view_module": "@jupyter-widgets/controls",
            "_view_module_version": "1.5.0",
            "_view_name": "HTMLView",
            "description": "",
            "description_tooltip": null,
            "layout": "IPY_MODEL_c9664c936fc94f8cab7a729ed20c90b6",
            "placeholder": "​",
            "style": "IPY_MODEL_d34e6ea118314dcb9e2c2bf93cbaca70",
            "value": "Loading checkpoint shards: 100%"
          }
        },
        "33476325dc7648d8bf2b50d36d18a23e": {
          "model_module": "@jupyter-widgets/controls",
          "model_name": "FloatProgressModel",
          "model_module_version": "1.5.0",
          "state": {
            "_dom_classes": [],
            "_model_module": "@jupyter-widgets/controls",
            "_model_module_version": "1.5.0",
            "_model_name": "FloatProgressModel",
            "_view_count": null,
            "_view_module": "@jupyter-widgets/controls",
            "_view_module_version": "1.5.0",
            "_view_name": "ProgressView",
            "bar_style": "success",
            "description": "",
            "description_tooltip": null,
            "layout": "IPY_MODEL_25c5d26faa2d4ee6b8b0413584d11198",
            "max": 2,
            "min": 0,
            "orientation": "horizontal",
            "style": "IPY_MODEL_e8456720c633425386e4bd429cff932d",
            "value": 2
          }
        },
        "c4d8a4a8cfa9430fbbaa873b89ff4453": {
          "model_module": "@jupyter-widgets/controls",
          "model_name": "HTMLModel",
          "model_module_version": "1.5.0",
          "state": {
            "_dom_classes": [],
            "_model_module": "@jupyter-widgets/controls",
            "_model_module_version": "1.5.0",
            "_model_name": "HTMLModel",
            "_view_count": null,
            "_view_module": "@jupyter-widgets/controls",
            "_view_module_version": "1.5.0",
            "_view_name": "HTMLView",
            "description": "",
            "description_tooltip": null,
            "layout": "IPY_MODEL_93fe0d4f2e18418886269c9da1155826",
            "placeholder": "​",
            "style": "IPY_MODEL_b4d087c34ebd437698882034217085ca",
            "value": " 2/2 [00:36&lt;00:00, 17.37s/it]"
          }
        },
        "7be8d49296fc4c1ebcca1e926e854cbb": {
          "model_module": "@jupyter-widgets/base",
          "model_name": "LayoutModel",
          "model_module_version": "1.2.0",
          "state": {
            "_model_module": "@jupyter-widgets/base",
            "_model_module_version": "1.2.0",
            "_model_name": "LayoutModel",
            "_view_count": null,
            "_view_module": "@jupyter-widgets/base",
            "_view_module_version": "1.2.0",
            "_view_name": "LayoutView",
            "align_content": null,
            "align_items": null,
            "align_self": null,
            "border": null,
            "bottom": null,
            "display": null,
            "flex": null,
            "flex_flow": null,
            "grid_area": null,
            "grid_auto_columns": null,
            "grid_auto_flow": null,
            "grid_auto_rows": null,
            "grid_column": null,
            "grid_gap": null,
            "grid_row": null,
            "grid_template_areas": null,
            "grid_template_columns": null,
            "grid_template_rows": null,
            "height": null,
            "justify_content": null,
            "justify_items": null,
            "left": null,
            "margin": null,
            "max_height": null,
            "max_width": null,
            "min_height": null,
            "min_width": null,
            "object_fit": null,
            "object_position": null,
            "order": null,
            "overflow": null,
            "overflow_x": null,
            "overflow_y": null,
            "padding": null,
            "right": null,
            "top": null,
            "visibility": null,
            "width": null
          }
        },
        "c9664c936fc94f8cab7a729ed20c90b6": {
          "model_module": "@jupyter-widgets/base",
          "model_name": "LayoutModel",
          "model_module_version": "1.2.0",
          "state": {
            "_model_module": "@jupyter-widgets/base",
            "_model_module_version": "1.2.0",
            "_model_name": "LayoutModel",
            "_view_count": null,
            "_view_module": "@jupyter-widgets/base",
            "_view_module_version": "1.2.0",
            "_view_name": "LayoutView",
            "align_content": null,
            "align_items": null,
            "align_self": null,
            "border": null,
            "bottom": null,
            "display": null,
            "flex": null,
            "flex_flow": null,
            "grid_area": null,
            "grid_auto_columns": null,
            "grid_auto_flow": null,
            "grid_auto_rows": null,
            "grid_column": null,
            "grid_gap": null,
            "grid_row": null,
            "grid_template_areas": null,
            "grid_template_columns": null,
            "grid_template_rows": null,
            "height": null,
            "justify_content": null,
            "justify_items": null,
            "left": null,
            "margin": null,
            "max_height": null,
            "max_width": null,
            "min_height": null,
            "min_width": null,
            "object_fit": null,
            "object_position": null,
            "order": null,
            "overflow": null,
            "overflow_x": null,
            "overflow_y": null,
            "padding": null,
            "right": null,
            "top": null,
            "visibility": null,
            "width": null
          }
        },
        "d34e6ea118314dcb9e2c2bf93cbaca70": {
          "model_module": "@jupyter-widgets/controls",
          "model_name": "DescriptionStyleModel",
          "model_module_version": "1.5.0",
          "state": {
            "_model_module": "@jupyter-widgets/controls",
            "_model_module_version": "1.5.0",
            "_model_name": "DescriptionStyleModel",
            "_view_count": null,
            "_view_module": "@jupyter-widgets/base",
            "_view_module_version": "1.2.0",
            "_view_name": "StyleView",
            "description_width": ""
          }
        },
        "25c5d26faa2d4ee6b8b0413584d11198": {
          "model_module": "@jupyter-widgets/base",
          "model_name": "LayoutModel",
          "model_module_version": "1.2.0",
          "state": {
            "_model_module": "@jupyter-widgets/base",
            "_model_module_version": "1.2.0",
            "_model_name": "LayoutModel",
            "_view_count": null,
            "_view_module": "@jupyter-widgets/base",
            "_view_module_version": "1.2.0",
            "_view_name": "LayoutView",
            "align_content": null,
            "align_items": null,
            "align_self": null,
            "border": null,
            "bottom": null,
            "display": null,
            "flex": null,
            "flex_flow": null,
            "grid_area": null,
            "grid_auto_columns": null,
            "grid_auto_flow": null,
            "grid_auto_rows": null,
            "grid_column": null,
            "grid_gap": null,
            "grid_row": null,
            "grid_template_areas": null,
            "grid_template_columns": null,
            "grid_template_rows": null,
            "height": null,
            "justify_content": null,
            "justify_items": null,
            "left": null,
            "margin": null,
            "max_height": null,
            "max_width": null,
            "min_height": null,
            "min_width": null,
            "object_fit": null,
            "object_position": null,
            "order": null,
            "overflow": null,
            "overflow_x": null,
            "overflow_y": null,
            "padding": null,
            "right": null,
            "top": null,
            "visibility": null,
            "width": null
          }
        },
        "e8456720c633425386e4bd429cff932d": {
          "model_module": "@jupyter-widgets/controls",
          "model_name": "ProgressStyleModel",
          "model_module_version": "1.5.0",
          "state": {
            "_model_module": "@jupyter-widgets/controls",
            "_model_module_version": "1.5.0",
            "_model_name": "ProgressStyleModel",
            "_view_count": null,
            "_view_module": "@jupyter-widgets/base",
            "_view_module_version": "1.2.0",
            "_view_name": "StyleView",
            "bar_color": null,
            "description_width": ""
          }
        },
        "93fe0d4f2e18418886269c9da1155826": {
          "model_module": "@jupyter-widgets/base",
          "model_name": "LayoutModel",
          "model_module_version": "1.2.0",
          "state": {
            "_model_module": "@jupyter-widgets/base",
            "_model_module_version": "1.2.0",
            "_model_name": "LayoutModel",
            "_view_count": null,
            "_view_module": "@jupyter-widgets/base",
            "_view_module_version": "1.2.0",
            "_view_name": "LayoutView",
            "align_content": null,
            "align_items": null,
            "align_self": null,
            "border": null,
            "bottom": null,
            "display": null,
            "flex": null,
            "flex_flow": null,
            "grid_area": null,
            "grid_auto_columns": null,
            "grid_auto_flow": null,
            "grid_auto_rows": null,
            "grid_column": null,
            "grid_gap": null,
            "grid_row": null,
            "grid_template_areas": null,
            "grid_template_columns": null,
            "grid_template_rows": null,
            "height": null,
            "justify_content": null,
            "justify_items": null,
            "left": null,
            "margin": null,
            "max_height": null,
            "max_width": null,
            "min_height": null,
            "min_width": null,
            "object_fit": null,
            "object_position": null,
            "order": null,
            "overflow": null,
            "overflow_x": null,
            "overflow_y": null,
            "padding": null,
            "right": null,
            "top": null,
            "visibility": null,
            "width": null
          }
        },
        "b4d087c34ebd437698882034217085ca": {
          "model_module": "@jupyter-widgets/controls",
          "model_name": "DescriptionStyleModel",
          "model_module_version": "1.5.0",
          "state": {
            "_model_module": "@jupyter-widgets/controls",
            "_model_module_version": "1.5.0",
            "_model_name": "DescriptionStyleModel",
            "_view_count": null,
            "_view_module": "@jupyter-widgets/base",
            "_view_module_version": "1.2.0",
            "_view_name": "StyleView",
            "description_width": ""
          }
        }
      }
    }
  },
  "nbformat": 4,
  "nbformat_minor": 0
}