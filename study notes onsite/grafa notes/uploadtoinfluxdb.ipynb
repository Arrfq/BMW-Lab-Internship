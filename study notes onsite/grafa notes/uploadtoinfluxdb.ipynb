{
 "cells": [
  {
   "cell_type": "code",
   "execution_count": 1,
   "metadata": {},
   "outputs": [],
   "source": [
    "from influxdb_client import InfluxDBClient, Point\n",
    "from influxdb_client.client.write_api import SYNCHRONOUS\n",
    "import csv\n",
    "nama_file='S1B2C1_predact'\n",
    "#from datetime import datetime, timedelta\n",
    "data =[]\n",
    "\n",
    "\n",
    "# Parameters of InfluxDB instance\n",
    "myorg = \"satwika\"\n",
    "mybucket = \"mydataset\"\n",
    "mytoken = \"jsTD3cFK45nep6Y2VA-MjliWCJEU8qSy1aiazoiNWxARnFBhg1xYxbh6mek8AufgUg_iHYxMRxsluOxDmEndkQ==\"\n",
    "myurl=\"http://192.168.8.6:30001/\"\n",
    "\n",
    "with open('%s.csv'%nama_file, 'r') as csvfile:\n",
    "      reader = csv.reader(csvfile, delimiter=',')\n",
    "      next(reader)\n",
    "      for row in reader:\n",
    "            new_row = [float(item) for item in row[1:]]\n",
    "            data.append(new_row)\n"
   ]
  },
  {
   "cell_type": "code",
   "execution_count": 10,
   "metadata": {},
   "outputs": [
    {
     "name": "stdout",
     "output_type": "stream",
     "text": [
      "Finish\n"
     ]
    }
   ],
   "source": [
    "\"\"\"\n",
    "Instantiate write api\n",
    "\"\"\"\n",
    "import datetime\n",
    "# Instantiate the client\n",
    "client = InfluxDBClient(url=myurl,token=mytoken,org=myorg)\n",
    "\n",
    "# Instantiate a write client using the client object\n",
    "write_api = client.write_api(write_options=SYNCHRONOUS)\n",
    "from datetime import datetime, timedelta\n",
    "\n",
    "start_time = datetime.strptime(\"2024-08-01T00:00:00.000Z\", \"%Y-%m-%dT%H:%M:%S.%fZ\")\n",
    "for i in range(0, len(data)):\n",
    "    # Data (Point structure)\n",
    "    _point = Point(\"%s\"%nama_file)\\\n",
    "        .field(\"RRU.PrbUsedDlpredict\", data[i][0])\\\n",
    "        .field(\"RRU.PrbUsedDl\", data[i][1])\\\n",
    "        .time(start_time + timedelta(minutes=i))\n",
    "        \n",
    "    # Write the data to InfluxDB\n",
    "    write_api.write(bucket=mybucket, record=[_point])\n",
    "print(\"Finish\")"
   ]
  }
 ],
 "metadata": {
  "kernelspec": {
   "display_name": "Python 3",
   "language": "python",
   "name": "python3"
  },
  "language_info": {
   "codemirror_mode": {
    "name": "ipython",
    "version": 3
   },
   "file_extension": ".py",
   "mimetype": "text/x-python",
   "name": "python",
   "nbconvert_exporter": "python",
   "pygments_lexer": "ipython3",
   "version": "3.10.6"
  }
 },
 "nbformat": 4,
 "nbformat_minor": 2
}
