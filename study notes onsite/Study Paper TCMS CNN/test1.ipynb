{
 "cells": [
  {
   "cell_type": "code",
   "execution_count": 1,
   "metadata": {},
   "outputs": [],
   "source": [
    "import tensorflow as tf\n",
    "from tensorflow.keras.layers import Conv1D, Input, Dense, Dropout, BatchNormalization, Add, Activation, concatenate, Lambda, Flatten\n",
    "from tensorflow.keras.models import Model\n",
    "import numpy as np\n"
   ]
  },
  {
   "cell_type": "code",
   "execution_count": 2,
   "metadata": {},
   "outputs": [],
   "source": [
    "def multi_scale_conv_block(input_tensor, filters, kernel_size=3, dilation_rates=[1, 2, 4]):\n",
    "    x = input_tensor\n",
    "    for dilation_rate in dilation_rates:\n",
    "        residual = Conv1D(filters, kernel_size, dilation_rate=dilation_rate, padding='same')(x)\n",
    "        residual = BatchNormalization()(residual)\n",
    "        residual = Activation('relu')(residual)\n",
    "        residual = Dropout(0.2)(residual)\n",
    "        x = Add()([x, residual])\n",
    "    return x\n",
    "def periodic_coding(timestamps, max_values):\n",
    "    sin_features = tf.math.sin(2 * np.pi * timestamps / max_values)\n",
    "    cos_features = tf.math.cos(2 * np.pi * timestamps / max_values)\n",
    "    periodic_features = tf.concat([sin_features, cos_features], axis=-1)\n",
    "    return periodic_features\n",
    "def fully_connected_sub_network(input_tensor, units):\n",
    "    x = Dense(units, activation='relu')(input_tensor)\n",
    "    x = Dropout(0.2)(x)\n",
    "    x = Dense(units, activation='relu')(x)\n",
    "    return x\n",
    "def build_tcms_cnn(input_shape, output_steps, num_filters=24, kernel_size=3, dilation_rates=[1, 2, 4]):\n",
    "    # Inputs\n",
    "    inputs = Input(shape=input_shape, name='input_features')\n",
    "    timestamps = Input(shape=(input_shape[0], 3), name='input_timestamps')  # Assuming the timestamps have three features (e.g., hour, day, month)\n",
    "    \n",
    "    # Periodic coding\n",
    "    max_values = [24, 7, 12]  # Maximum values for hours, days, and months\n",
    "    periodic_features = Lambda(lambda x: periodic_coding(x, max_values))(timestamps)\n",
    "    \n",
    "    # Concatenate periodic features with input\n",
    "    x = concatenate([inputs, periodic_features], axis=-1)\n",
    "    \n",
    "    # Initial convolution layers (convolution 0)\n",
    "    x = Conv1D(64, kernel_size, padding='same', activation='relu')(x)\n",
    "    x = Conv1D(num_filters, kernel_size, padding='same', activation='relu')(x)\n",
    "    \n",
    "    # Apply multi-scale convolutions (MS-CNN sub-network)\n",
    "    for _ in range(0, 8):  # Depth of 32\n",
    "        x = multi_scale_conv_block(x, num_filters, kernel_size, dilation_rates)\n",
    "    \n",
    "    # Flatten the MS-CNN output\n",
    "    x = Flatten()(x)\n",
    "    \n",
    "    # Apply fully connected layers to periodic coding for future steps\n",
    "    periodic_input_future = Input(shape=(output_steps, 3), name='periodic_input_future')\n",
    "    periodic_features_future = Lambda(lambda x: periodic_coding(x, max_values))(periodic_input_future)\n",
    "    periodic_features_future = Flatten()(periodic_features_future)\n",
    "    fully_connected_output = fully_connected_sub_network(periodic_features_future, num_filters)\n",
    "    \n",
    "    # Fusion layer\n",
    "    fused = concatenate([x, fully_connected_output])\n",
    "    \n",
    "    # Final fully connected layer to predict future load\n",
    "    output = Dense(output_steps)(fused)\n",
    "    \n",
    "    # Define the model\n",
    "    model = Model(inputs=[inputs, timestamps, periodic_input_future], outputs=output)\n",
    "    return model\n"
   ]
  },
  {
   "cell_type": "code",
   "execution_count": 4,
   "metadata": {},
   "outputs": [
    {
     "name": "stdout",
     "output_type": "stream",
     "text": [
      "Epoch 1/10\n",
      "32/32 [==============================] - 10s 28ms/step - loss: 259.9205\n",
      "Epoch 2/10\n",
      "32/32 [==============================] - 1s 24ms/step - loss: 26.4140\n",
      "Epoch 3/10\n",
      "32/32 [==============================] - 1s 23ms/step - loss: 14.9189\n",
      "Epoch 4/10\n",
      "32/32 [==============================] - 1s 23ms/step - loss: 12.8791\n",
      "Epoch 5/10\n",
      "32/32 [==============================] - 1s 23ms/step - loss: 10.7845\n",
      "Epoch 6/10\n",
      "32/32 [==============================] - 1s 23ms/step - loss: 9.4662\n",
      "Epoch 7/10\n",
      "32/32 [==============================] - 1s 23ms/step - loss: 8.5395\n",
      "Epoch 8/10\n",
      "32/32 [==============================] - 1s 23ms/step - loss: 7.5806\n",
      "Epoch 9/10\n",
      "32/32 [==============================] - 1s 23ms/step - loss: 6.7447\n",
      "Epoch 10/10\n",
      "32/32 [==============================] - 1s 23ms/step - loss: 6.2497\n"
     ]
    },
    {
     "data": {
      "text/plain": [
       "<keras.callbacks.History at 0x205338bc820>"
      ]
     },
     "execution_count": 4,
     "metadata": {},
     "output_type": "execute_result"
    }
   ],
   "source": [
    "input_shape = (240, 3)  # 240 time steps and 3 features (e.g., load, temperature, humidity)\n",
    "output_steps = 60  # Predicting the next 60 time steps\n",
    "\n",
    "model = build_tcms_cnn(input_shape, output_steps)\n",
    "model.compile(optimizer='adam', loss='mse')\n",
    "\n",
    "# Example data\n",
    "X_train = np.random.rand(1000, 240, 3)\n",
    "timestamps_train = np.random.randint(0, [24, 7, 12], size=(1000, 240, 3))\n",
    "timestamps_future = np.random.randint(0, [24, 7, 12], size=(1000, 60, 3))\n",
    "y_train = np.random.rand(1000, 60)\n",
    "\n",
    "model.fit([X_train, timestamps_train, timestamps_future], y_train, epochs=10, batch_size=32, verbose=True)\n"
   ]
  },
  {
   "cell_type": "code",
   "execution_count": 7,
   "metadata": {},
   "outputs": [
    {
     "name": "stdout",
     "output_type": "stream",
     "text": [
      "32/32 [==============================] - 0s 13ms/step\n"
     ]
    },
    {
     "data": {
      "text/plain": [
       "(1000, 60)"
      ]
     },
     "execution_count": 7,
     "metadata": {},
     "output_type": "execute_result"
    }
   ],
   "source": [
    "model.predict([X_train, timestamps_train, timestamps_future]).shape"
   ]
  },
  {
   "cell_type": "code",
   "execution_count": 11,
   "metadata": {},
   "outputs": [
    {
     "data": {
      "text/plain": [
       "(1000, 240, 3)"
      ]
     },
     "execution_count": 11,
     "metadata": {},
     "output_type": "execute_result"
    }
   ],
   "source": [
    "X_train.shape"
   ]
  },
  {
   "cell_type": "code",
   "execution_count": 9,
   "metadata": {},
   "outputs": [
    {
     "data": {
      "text/plain": [
       "(1000, 60, 3)"
      ]
     },
     "execution_count": 9,
     "metadata": {},
     "output_type": "execute_result"
    }
   ],
   "source": [
    "timestamps_future.shape"
   ]
  },
  {
   "cell_type": "code",
   "execution_count": 10,
   "metadata": {},
   "outputs": [
    {
     "data": {
      "text/plain": [
       "array([[[21,  6,  0],\n",
       "        [ 8,  0,  4],\n",
       "        [20,  2,  7],\n",
       "        ...,\n",
       "        [ 4,  4,  1],\n",
       "        [21,  5,  3],\n",
       "        [ 3,  1,  3]],\n",
       "\n",
       "       [[ 5,  1,  9],\n",
       "        [ 8,  5, 10],\n",
       "        [13,  4,  0],\n",
       "        ...,\n",
       "        [23,  4,  8],\n",
       "        [20,  6,  4],\n",
       "        [ 6,  4,  9]],\n",
       "\n",
       "       [[ 8,  1,  7],\n",
       "        [ 8,  1,  9],\n",
       "        [ 8,  2,  4],\n",
       "        ...,\n",
       "        [ 8,  0,  9],\n",
       "        [ 8,  2,  6],\n",
       "        [ 1,  1,  3]],\n",
       "\n",
       "       ...,\n",
       "\n",
       "       [[22,  5,  7],\n",
       "        [10,  6,  0],\n",
       "        [12,  3,  5],\n",
       "        ...,\n",
       "        [23,  2,  3],\n",
       "        [ 9,  1,  7],\n",
       "        [ 3,  6,  9]],\n",
       "\n",
       "       [[ 7,  4,  6],\n",
       "        [ 6,  2,  5],\n",
       "        [ 6,  2,  4],\n",
       "        ...,\n",
       "        [20,  0,  3],\n",
       "        [ 4,  6,  7],\n",
       "        [12,  6,  1]],\n",
       "\n",
       "       [[13,  1,  2],\n",
       "        [17,  2,  2],\n",
       "        [17,  4,  1],\n",
       "        ...,\n",
       "        [ 8,  0,  2],\n",
       "        [ 6,  2, 11],\n",
       "        [15,  0,  6]]])"
      ]
     },
     "execution_count": 10,
     "metadata": {},
     "output_type": "execute_result"
    }
   ],
   "source": [
    "timestamps_future"
   ]
  }
 ],
 "metadata": {
  "kernelspec": {
   "display_name": "tf_gpu_env",
   "language": "python",
   "name": "python3"
  },
  "language_info": {
   "codemirror_mode": {
    "name": "ipython",
    "version": 3
   },
   "file_extension": ".py",
   "mimetype": "text/x-python",
   "name": "python",
   "nbconvert_exporter": "python",
   "pygments_lexer": "ipython3",
   "version": "3.8.19"
  }
 },
 "nbformat": 4,
 "nbformat_minor": 2
}
