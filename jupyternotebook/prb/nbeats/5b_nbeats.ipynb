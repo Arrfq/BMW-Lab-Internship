{
 "cells": [
  {
   "cell_type": "code",
   "execution_count": 1,
   "metadata": {},
   "outputs": [
    {
     "name": "stderr",
     "output_type": "stream",
     "text": [
      "d:\\GAME\\Anaconda\\envs\\machinelearning_joseportilla\\lib\\site-packages\\statsforecast\\utils.py:237: FutureWarning: 'M' is deprecated and will be removed in a future version, please use 'ME' instead.\n",
      "  \"ds\": pd.date_range(start=\"1949-01-01\", periods=len(AirPassengers), freq=\"M\"),\n"
     ]
    }
   ],
   "source": [
    "import os\n",
    "import datetime\n",
    "import matplotlib.pyplot as plt\n",
    "import numpy as np\n",
    "import pandas as pd\n",
    "import seaborn as sns\n",
    "import torch\n",
    "import time\n",
    "from darts import TimeSeries\n",
    "from darts.models import NBEATSModel\n",
    "from pytorch_lightning.callbacks import ModelCheckpoint\n",
    "\n"
   ]
  },
  {
   "cell_type": "code",
   "execution_count": 2,
   "metadata": {},
   "outputs": [
    {
     "data": {
      "text/html": [
       "<div>\n",
       "<style scoped>\n",
       "    .dataframe tbody tr th:only-of-type {\n",
       "        vertical-align: middle;\n",
       "    }\n",
       "\n",
       "    .dataframe tbody tr th {\n",
       "        vertical-align: top;\n",
       "    }\n",
       "\n",
       "    .dataframe thead th {\n",
       "        text-align: right;\n",
       "    }\n",
       "</style>\n",
       "<table border=\"1\" class=\"dataframe\">\n",
       "  <thead>\n",
       "    <tr style=\"text-align: right;\">\n",
       "      <th></th>\n",
       "      <th>timestamp</th>\n",
       "      <th>Viavi.Cell.Name</th>\n",
       "      <th>DRB.UEThpDl</th>\n",
       "      <th>DRB.UEThpUl</th>\n",
       "      <th>RRU.PrbUsedDl</th>\n",
       "      <th>RRU.PrbUsedUl</th>\n",
       "      <th>RRU.PrbAvailDl</th>\n",
       "      <th>RRU.PrbAvailUl</th>\n",
       "      <th>RRU.PrbTotUl</th>\n",
       "      <th>RRU.PrbTotDl</th>\n",
       "      <th>RRU.MaxLayerDlMimo</th>\n",
       "      <th>CARR.AverageLayersDl</th>\n",
       "      <th>RRC.ConnMean</th>\n",
       "      <th>RRC.ConnMax</th>\n",
       "      <th>QosFlow.TotPdcpPduVolumeUl</th>\n",
       "      <th>QosFlow.TotPdcpPduVolumeDl</th>\n",
       "      <th>PEE.AvgPower</th>\n",
       "      <th>PEE.Energy</th>\n",
       "    </tr>\n",
       "  </thead>\n",
       "  <tbody>\n",
       "    <tr>\n",
       "      <th>0</th>\n",
       "      <td>1672502400</td>\n",
       "      <td>S1/B2/C1</td>\n",
       "      <td>0.278192</td>\n",
       "      <td>0.278192</td>\n",
       "      <td>81.459016</td>\n",
       "      <td>81.459016</td>\n",
       "      <td>100</td>\n",
       "      <td>100</td>\n",
       "      <td>81.459016</td>\n",
       "      <td>81.459016</td>\n",
       "      <td>0.0</td>\n",
       "      <td>0.0</td>\n",
       "      <td>1.786885</td>\n",
       "      <td>2.311475</td>\n",
       "      <td>277.868853</td>\n",
       "      <td>277.868853</td>\n",
       "      <td>281.947679</td>\n",
       "      <td>0.004195</td>\n",
       "    </tr>\n",
       "    <tr>\n",
       "      <th>1</th>\n",
       "      <td>1672502400</td>\n",
       "      <td>S7/B2/C1</td>\n",
       "      <td>0.146310</td>\n",
       "      <td>0.146310</td>\n",
       "      <td>50.000000</td>\n",
       "      <td>50.000000</td>\n",
       "      <td>100</td>\n",
       "      <td>100</td>\n",
       "      <td>50.000000</td>\n",
       "      <td>50.000000</td>\n",
       "      <td>0.0</td>\n",
       "      <td>0.0</td>\n",
       "      <td>0.516667</td>\n",
       "      <td>1.316667</td>\n",
       "      <td>146.050000</td>\n",
       "      <td>146.050000</td>\n",
       "      <td>180.817352</td>\n",
       "      <td>0.002292</td>\n",
       "    </tr>\n",
       "    <tr>\n",
       "      <th>2</th>\n",
       "      <td>1672502400</td>\n",
       "      <td>S8/B2/C1</td>\n",
       "      <td>0.220303</td>\n",
       "      <td>0.220303</td>\n",
       "      <td>64.300000</td>\n",
       "      <td>64.300000</td>\n",
       "      <td>100</td>\n",
       "      <td>100</td>\n",
       "      <td>64.300000</td>\n",
       "      <td>64.300000</td>\n",
       "      <td>0.0</td>\n",
       "      <td>0.0</td>\n",
       "      <td>1.450000</td>\n",
       "      <td>3.966667</td>\n",
       "      <td>220.083333</td>\n",
       "      <td>220.083333</td>\n",
       "      <td>230.893458</td>\n",
       "      <td>0.004631</td>\n",
       "    </tr>\n",
       "    <tr>\n",
       "      <th>3</th>\n",
       "      <td>1672502400</td>\n",
       "      <td>S9/B2/C1</td>\n",
       "      <td>0.186428</td>\n",
       "      <td>0.186428</td>\n",
       "      <td>80.900000</td>\n",
       "      <td>80.900000</td>\n",
       "      <td>100</td>\n",
       "      <td>100</td>\n",
       "      <td>80.900000</td>\n",
       "      <td>80.900000</td>\n",
       "      <td>0.0</td>\n",
       "      <td>0.0</td>\n",
       "      <td>1.916667</td>\n",
       "      <td>6.900000</td>\n",
       "      <td>186.083333</td>\n",
       "      <td>186.083333</td>\n",
       "      <td>279.584476</td>\n",
       "      <td>0.005326</td>\n",
       "    </tr>\n",
       "    <tr>\n",
       "      <th>4</th>\n",
       "      <td>1672502400</td>\n",
       "      <td>S1/B13/C1</td>\n",
       "      <td>0.000000</td>\n",
       "      <td>0.000000</td>\n",
       "      <td>0.000000</td>\n",
       "      <td>0.000000</td>\n",
       "      <td>75</td>\n",
       "      <td>75</td>\n",
       "      <td>0.000000</td>\n",
       "      <td>0.000000</td>\n",
       "      <td>0.0</td>\n",
       "      <td>0.0</td>\n",
       "      <td>0.000000</td>\n",
       "      <td>0.000000</td>\n",
       "      <td>0.000000</td>\n",
       "      <td>0.000000</td>\n",
       "      <td>18.250000</td>\n",
       "      <td>0.000360</td>\n",
       "    </tr>\n",
       "    <tr>\n",
       "      <th>...</th>\n",
       "      <td>...</td>\n",
       "      <td>...</td>\n",
       "      <td>...</td>\n",
       "      <td>...</td>\n",
       "      <td>...</td>\n",
       "      <td>...</td>\n",
       "      <td>...</td>\n",
       "      <td>...</td>\n",
       "      <td>...</td>\n",
       "      <td>...</td>\n",
       "      <td>...</td>\n",
       "      <td>...</td>\n",
       "      <td>...</td>\n",
       "      <td>...</td>\n",
       "      <td>...</td>\n",
       "      <td>...</td>\n",
       "      <td>...</td>\n",
       "      <td>...</td>\n",
       "    </tr>\n",
       "    <tr>\n",
       "      <th>524206</th>\n",
       "      <td>1673107140</td>\n",
       "      <td>S3/N77/C2</td>\n",
       "      <td>0.000000</td>\n",
       "      <td>0.000000</td>\n",
       "      <td>0.000000</td>\n",
       "      <td>0.000000</td>\n",
       "      <td>273</td>\n",
       "      <td>273</td>\n",
       "      <td>0.000000</td>\n",
       "      <td>0.000000</td>\n",
       "      <td>0.0</td>\n",
       "      <td>0.0</td>\n",
       "      <td>0.000000</td>\n",
       "      <td>4.000000</td>\n",
       "      <td>0.000000</td>\n",
       "      <td>0.000000</td>\n",
       "      <td>21.000000</td>\n",
       "      <td>11.000064</td>\n",
       "    </tr>\n",
       "    <tr>\n",
       "      <th>524207</th>\n",
       "      <td>1673107140</td>\n",
       "      <td>S3/N77/C3</td>\n",
       "      <td>0.000000</td>\n",
       "      <td>0.000000</td>\n",
       "      <td>0.000000</td>\n",
       "      <td>0.000000</td>\n",
       "      <td>273</td>\n",
       "      <td>273</td>\n",
       "      <td>0.000000</td>\n",
       "      <td>0.000000</td>\n",
       "      <td>0.0</td>\n",
       "      <td>0.0</td>\n",
       "      <td>0.000000</td>\n",
       "      <td>2.000000</td>\n",
       "      <td>0.000000</td>\n",
       "      <td>0.000000</td>\n",
       "      <td>21.000000</td>\n",
       "      <td>7.609575</td>\n",
       "    </tr>\n",
       "    <tr>\n",
       "      <th>524208</th>\n",
       "      <td>1673107140</td>\n",
       "      <td>S4/N77/C1</td>\n",
       "      <td>0.000000</td>\n",
       "      <td>0.000000</td>\n",
       "      <td>0.000000</td>\n",
       "      <td>0.000000</td>\n",
       "      <td>273</td>\n",
       "      <td>273</td>\n",
       "      <td>0.000000</td>\n",
       "      <td>0.000000</td>\n",
       "      <td>0.0</td>\n",
       "      <td>0.0</td>\n",
       "      <td>0.000000</td>\n",
       "      <td>3.000000</td>\n",
       "      <td>0.000000</td>\n",
       "      <td>0.000000</td>\n",
       "      <td>21.000000</td>\n",
       "      <td>7.789410</td>\n",
       "    </tr>\n",
       "    <tr>\n",
       "      <th>524209</th>\n",
       "      <td>1673107140</td>\n",
       "      <td>S4/N77/C2</td>\n",
       "      <td>0.000000</td>\n",
       "      <td>0.000000</td>\n",
       "      <td>0.000000</td>\n",
       "      <td>0.000000</td>\n",
       "      <td>273</td>\n",
       "      <td>273</td>\n",
       "      <td>0.000000</td>\n",
       "      <td>0.000000</td>\n",
       "      <td>0.0</td>\n",
       "      <td>0.0</td>\n",
       "      <td>0.000000</td>\n",
       "      <td>5.000000</td>\n",
       "      <td>0.000000</td>\n",
       "      <td>0.000000</td>\n",
       "      <td>21.000000</td>\n",
       "      <td>18.617635</td>\n",
       "    </tr>\n",
       "    <tr>\n",
       "      <th>524210</th>\n",
       "      <td>1673107140</td>\n",
       "      <td>S4/N77/C3</td>\n",
       "      <td>0.310630</td>\n",
       "      <td>0.030366</td>\n",
       "      <td>273.000000</td>\n",
       "      <td>273.000000</td>\n",
       "      <td>273</td>\n",
       "      <td>273</td>\n",
       "      <td>100.000000</td>\n",
       "      <td>100.000000</td>\n",
       "      <td>1.0</td>\n",
       "      <td>1.0</td>\n",
       "      <td>1.000000</td>\n",
       "      <td>4.000000</td>\n",
       "      <td>30.365599</td>\n",
       "      <td>310.629608</td>\n",
       "      <td>358.626129</td>\n",
       "      <td>16.430099</td>\n",
       "    </tr>\n",
       "  </tbody>\n",
       "</table>\n",
       "<p>524211 rows × 18 columns</p>\n",
       "</div>"
      ],
      "text/plain": [
       "         timestamp Viavi.Cell.Name  DRB.UEThpDl  DRB.UEThpUl  RRU.PrbUsedDl  \\\n",
       "0       1672502400        S1/B2/C1     0.278192     0.278192      81.459016   \n",
       "1       1672502400        S7/B2/C1     0.146310     0.146310      50.000000   \n",
       "2       1672502400        S8/B2/C1     0.220303     0.220303      64.300000   \n",
       "3       1672502400        S9/B2/C1     0.186428     0.186428      80.900000   \n",
       "4       1672502400       S1/B13/C1     0.000000     0.000000       0.000000   \n",
       "...            ...             ...          ...          ...            ...   \n",
       "524206  1673107140       S3/N77/C2     0.000000     0.000000       0.000000   \n",
       "524207  1673107140       S3/N77/C3     0.000000     0.000000       0.000000   \n",
       "524208  1673107140       S4/N77/C1     0.000000     0.000000       0.000000   \n",
       "524209  1673107140       S4/N77/C2     0.000000     0.000000       0.000000   \n",
       "524210  1673107140       S4/N77/C3     0.310630     0.030366     273.000000   \n",
       "\n",
       "        RRU.PrbUsedUl  RRU.PrbAvailDl  RRU.PrbAvailUl  RRU.PrbTotUl  \\\n",
       "0           81.459016             100             100     81.459016   \n",
       "1           50.000000             100             100     50.000000   \n",
       "2           64.300000             100             100     64.300000   \n",
       "3           80.900000             100             100     80.900000   \n",
       "4            0.000000              75              75      0.000000   \n",
       "...               ...             ...             ...           ...   \n",
       "524206       0.000000             273             273      0.000000   \n",
       "524207       0.000000             273             273      0.000000   \n",
       "524208       0.000000             273             273      0.000000   \n",
       "524209       0.000000             273             273      0.000000   \n",
       "524210     273.000000             273             273    100.000000   \n",
       "\n",
       "        RRU.PrbTotDl  RRU.MaxLayerDlMimo  CARR.AverageLayersDl  RRC.ConnMean  \\\n",
       "0          81.459016                 0.0                   0.0      1.786885   \n",
       "1          50.000000                 0.0                   0.0      0.516667   \n",
       "2          64.300000                 0.0                   0.0      1.450000   \n",
       "3          80.900000                 0.0                   0.0      1.916667   \n",
       "4           0.000000                 0.0                   0.0      0.000000   \n",
       "...              ...                 ...                   ...           ...   \n",
       "524206      0.000000                 0.0                   0.0      0.000000   \n",
       "524207      0.000000                 0.0                   0.0      0.000000   \n",
       "524208      0.000000                 0.0                   0.0      0.000000   \n",
       "524209      0.000000                 0.0                   0.0      0.000000   \n",
       "524210    100.000000                 1.0                   1.0      1.000000   \n",
       "\n",
       "        RRC.ConnMax  QosFlow.TotPdcpPduVolumeUl  QosFlow.TotPdcpPduVolumeDl  \\\n",
       "0          2.311475                  277.868853                  277.868853   \n",
       "1          1.316667                  146.050000                  146.050000   \n",
       "2          3.966667                  220.083333                  220.083333   \n",
       "3          6.900000                  186.083333                  186.083333   \n",
       "4          0.000000                    0.000000                    0.000000   \n",
       "...             ...                         ...                         ...   \n",
       "524206     4.000000                    0.000000                    0.000000   \n",
       "524207     2.000000                    0.000000                    0.000000   \n",
       "524208     3.000000                    0.000000                    0.000000   \n",
       "524209     5.000000                    0.000000                    0.000000   \n",
       "524210     4.000000                   30.365599                  310.629608   \n",
       "\n",
       "        PEE.AvgPower  PEE.Energy  \n",
       "0         281.947679    0.004195  \n",
       "1         180.817352    0.002292  \n",
       "2         230.893458    0.004631  \n",
       "3         279.584476    0.005326  \n",
       "4          18.250000    0.000360  \n",
       "...              ...         ...  \n",
       "524206     21.000000   11.000064  \n",
       "524207     21.000000    7.609575  \n",
       "524208     21.000000    7.789410  \n",
       "524209     21.000000   18.617635  \n",
       "524210    358.626129   16.430099  \n",
       "\n",
       "[524211 rows x 18 columns]"
      ]
     },
     "execution_count": 2,
     "metadata": {},
     "output_type": "execute_result"
    }
   ],
   "source": [
    "df_begin=pd.read_csv('D:\\\\KULIAH\\\\teep\\AI\\\\dataset\\\\52 cells\\\\CellReports.csv')\n",
    "df_begin"
   ]
  },
  {
   "cell_type": "code",
   "execution_count": 3,
   "metadata": {},
   "outputs": [],
   "source": [
    "df_1=df_begin.copy()\n",
    "df_1.drop(columns=['RRU.PrbAvailDl', 'RRU.PrbAvailUl','RRU.PrbTotUl','RRU.PrbTotDl','RRC.ConnMax'], inplace=True)\n",
    "convert_time=pd.to_datetime(df_1['timestamp'], unit='s',origin='unix')\n",
    "df_1.insert(df_1.columns.get_loc('timestamp') + 1, 'datetime_column', convert_time)\n",
    "df_1.set_index('datetime_column', inplace=True)\n",
    "df_1.drop(columns=['timestamp'], inplace=True)"
   ]
  },
  {
   "cell_type": "code",
   "execution_count": 4,
   "metadata": {},
   "outputs": [
    {
     "data": {
      "text/html": [
       "<div>\n",
       "<style scoped>\n",
       "    .dataframe tbody tr th:only-of-type {\n",
       "        vertical-align: middle;\n",
       "    }\n",
       "\n",
       "    .dataframe tbody tr th {\n",
       "        vertical-align: top;\n",
       "    }\n",
       "\n",
       "    .dataframe thead th {\n",
       "        text-align: right;\n",
       "    }\n",
       "</style>\n",
       "<table border=\"1\" class=\"dataframe\">\n",
       "  <thead>\n",
       "    <tr style=\"text-align: right;\">\n",
       "      <th></th>\n",
       "      <th>RRU.PrbUsedDl</th>\n",
       "      <th>RRU.PrbUsedUl</th>\n",
       "    </tr>\n",
       "  </thead>\n",
       "  <tbody>\n",
       "    <tr>\n",
       "      <th>DRB.UEThpDl</th>\n",
       "      <td>0.609351</td>\n",
       "      <td>0.655949</td>\n",
       "    </tr>\n",
       "    <tr>\n",
       "      <th>DRB.UEThpUl</th>\n",
       "      <td>0.551258</td>\n",
       "      <td>0.604384</td>\n",
       "    </tr>\n",
       "    <tr>\n",
       "      <th>RRU.PrbUsedDl</th>\n",
       "      <td>1.000000</td>\n",
       "      <td>0.976418</td>\n",
       "    </tr>\n",
       "    <tr>\n",
       "      <th>RRU.PrbUsedUl</th>\n",
       "      <td>0.976418</td>\n",
       "      <td>1.000000</td>\n",
       "    </tr>\n",
       "    <tr>\n",
       "      <th>RRU.MaxLayerDlMimo</th>\n",
       "      <td>0.564125</td>\n",
       "      <td>0.475535</td>\n",
       "    </tr>\n",
       "    <tr>\n",
       "      <th>CARR.AverageLayersDl</th>\n",
       "      <td>0.564125</td>\n",
       "      <td>0.475535</td>\n",
       "    </tr>\n",
       "    <tr>\n",
       "      <th>RRC.ConnMean</th>\n",
       "      <td>0.546933</td>\n",
       "      <td>0.582082</td>\n",
       "    </tr>\n",
       "    <tr>\n",
       "      <th>QosFlow.TotPdcpPduVolumeUl</th>\n",
       "      <td>0.551093</td>\n",
       "      <td>0.604202</td>\n",
       "    </tr>\n",
       "    <tr>\n",
       "      <th>QosFlow.TotPdcpPduVolumeDl</th>\n",
       "      <td>0.609268</td>\n",
       "      <td>0.655836</td>\n",
       "    </tr>\n",
       "    <tr>\n",
       "      <th>PEE.AvgPower</th>\n",
       "      <td>0.781520</td>\n",
       "      <td>0.832680</td>\n",
       "    </tr>\n",
       "    <tr>\n",
       "      <th>PEE.Energy</th>\n",
       "      <td>0.319007</td>\n",
       "      <td>0.350801</td>\n",
       "    </tr>\n",
       "  </tbody>\n",
       "</table>\n",
       "</div>"
      ],
      "text/plain": [
       "                            RRU.PrbUsedDl  RRU.PrbUsedUl\n",
       "DRB.UEThpDl                      0.609351       0.655949\n",
       "DRB.UEThpUl                      0.551258       0.604384\n",
       "RRU.PrbUsedDl                    1.000000       0.976418\n",
       "RRU.PrbUsedUl                    0.976418       1.000000\n",
       "RRU.MaxLayerDlMimo               0.564125       0.475535\n",
       "CARR.AverageLayersDl             0.564125       0.475535\n",
       "RRC.ConnMean                     0.546933       0.582082\n",
       "QosFlow.TotPdcpPduVolumeUl       0.551093       0.604202\n",
       "QosFlow.TotPdcpPduVolumeDl       0.609268       0.655836\n",
       "PEE.AvgPower                     0.781520       0.832680\n",
       "PEE.Energy                       0.319007       0.350801"
      ]
     },
     "metadata": {},
     "output_type": "display_data"
    },
    {
     "name": "stdout",
     "output_type": "stream",
     "text": [
      "higher correlation > 0.5:\n",
      " ['DRB.UEThpDl', 'DRB.UEThpUl', 'RRU.PrbUsedDl', 'RRU.PrbUsedUl', 'RRC.ConnMean', 'QosFlow.TotPdcpPduVolumeUl', 'QosFlow.TotPdcpPduVolumeDl', 'PEE.AvgPower']\n"
     ]
    }
   ],
   "source": [
    "# Filter for specific columns and their correlations\n",
    "corr_matrix = df_1.corr(numeric_only=True)[['RRU.PrbUsedDl', 'RRU.PrbUsedUl']]\n",
    "display(corr_matrix)\n",
    "filtered_corr = corr_matrix[['RRU.PrbUsedDl', 'RRU.PrbUsedUl']]\n",
    "\n",
    "# Find columns where correlation with 'RRU.PrbUsedDl' or 'RRU.PrbUsedUl' is greater than 0.5\n",
    "columns_with_high_corr = filtered_corr.index[(filtered_corr['RRU.PrbUsedDl'] > 0.5) & (filtered_corr['RRU.PrbUsedUl'] > 0.5)].tolist()\n",
    "\n",
    "print(\"higher correlation > 0.5:\\n\", columns_with_high_corr)"
   ]
  },
  {
   "cell_type": "code",
   "execution_count": 5,
   "metadata": {},
   "outputs": [
    {
     "data": {
      "text/html": [
       "<div>\n",
       "<style scoped>\n",
       "    .dataframe tbody tr th:only-of-type {\n",
       "        vertical-align: middle;\n",
       "    }\n",
       "\n",
       "    .dataframe tbody tr th {\n",
       "        vertical-align: top;\n",
       "    }\n",
       "\n",
       "    .dataframe thead th {\n",
       "        text-align: right;\n",
       "    }\n",
       "</style>\n",
       "<table border=\"1\" class=\"dataframe\">\n",
       "  <thead>\n",
       "    <tr style=\"text-align: right;\">\n",
       "      <th></th>\n",
       "      <th>DRB.UEThpDl</th>\n",
       "      <th>DRB.UEThpUl</th>\n",
       "      <th>RRU.PrbUsedDl</th>\n",
       "      <th>RRU.PrbUsedUl</th>\n",
       "      <th>RRC.ConnMean</th>\n",
       "      <th>QosFlow.TotPdcpPduVolumeUl</th>\n",
       "      <th>QosFlow.TotPdcpPduVolumeDl</th>\n",
       "      <th>PEE.AvgPower</th>\n",
       "    </tr>\n",
       "    <tr>\n",
       "      <th>datetime_column</th>\n",
       "      <th></th>\n",
       "      <th></th>\n",
       "      <th></th>\n",
       "      <th></th>\n",
       "      <th></th>\n",
       "      <th></th>\n",
       "      <th></th>\n",
       "      <th></th>\n",
       "    </tr>\n",
       "  </thead>\n",
       "  <tbody>\n",
       "    <tr>\n",
       "      <th>2022-12-31 16:00:00</th>\n",
       "      <td>0.278192</td>\n",
       "      <td>0.278192</td>\n",
       "      <td>81.459016</td>\n",
       "      <td>81.459016</td>\n",
       "      <td>1.786885</td>\n",
       "      <td>277.868853</td>\n",
       "      <td>277.868853</td>\n",
       "      <td>281.947679</td>\n",
       "    </tr>\n",
       "    <tr>\n",
       "      <th>2022-12-31 16:00:00</th>\n",
       "      <td>0.146310</td>\n",
       "      <td>0.146310</td>\n",
       "      <td>50.000000</td>\n",
       "      <td>50.000000</td>\n",
       "      <td>0.516667</td>\n",
       "      <td>146.050000</td>\n",
       "      <td>146.050000</td>\n",
       "      <td>180.817352</td>\n",
       "    </tr>\n",
       "    <tr>\n",
       "      <th>2022-12-31 16:00:00</th>\n",
       "      <td>0.220303</td>\n",
       "      <td>0.220303</td>\n",
       "      <td>64.300000</td>\n",
       "      <td>64.300000</td>\n",
       "      <td>1.450000</td>\n",
       "      <td>220.083333</td>\n",
       "      <td>220.083333</td>\n",
       "      <td>230.893458</td>\n",
       "    </tr>\n",
       "    <tr>\n",
       "      <th>2022-12-31 16:00:00</th>\n",
       "      <td>0.186428</td>\n",
       "      <td>0.186428</td>\n",
       "      <td>80.900000</td>\n",
       "      <td>80.900000</td>\n",
       "      <td>1.916667</td>\n",
       "      <td>186.083333</td>\n",
       "      <td>186.083333</td>\n",
       "      <td>279.584476</td>\n",
       "    </tr>\n",
       "    <tr>\n",
       "      <th>2022-12-31 16:00:00</th>\n",
       "      <td>0.000000</td>\n",
       "      <td>0.000000</td>\n",
       "      <td>0.000000</td>\n",
       "      <td>0.000000</td>\n",
       "      <td>0.000000</td>\n",
       "      <td>0.000000</td>\n",
       "      <td>0.000000</td>\n",
       "      <td>18.250000</td>\n",
       "    </tr>\n",
       "    <tr>\n",
       "      <th>...</th>\n",
       "      <td>...</td>\n",
       "      <td>...</td>\n",
       "      <td>...</td>\n",
       "      <td>...</td>\n",
       "      <td>...</td>\n",
       "      <td>...</td>\n",
       "      <td>...</td>\n",
       "      <td>...</td>\n",
       "    </tr>\n",
       "    <tr>\n",
       "      <th>2023-01-07 15:59:00</th>\n",
       "      <td>0.000000</td>\n",
       "      <td>0.000000</td>\n",
       "      <td>0.000000</td>\n",
       "      <td>0.000000</td>\n",
       "      <td>0.000000</td>\n",
       "      <td>0.000000</td>\n",
       "      <td>0.000000</td>\n",
       "      <td>21.000000</td>\n",
       "    </tr>\n",
       "    <tr>\n",
       "      <th>2023-01-07 15:59:00</th>\n",
       "      <td>0.000000</td>\n",
       "      <td>0.000000</td>\n",
       "      <td>0.000000</td>\n",
       "      <td>0.000000</td>\n",
       "      <td>0.000000</td>\n",
       "      <td>0.000000</td>\n",
       "      <td>0.000000</td>\n",
       "      <td>21.000000</td>\n",
       "    </tr>\n",
       "    <tr>\n",
       "      <th>2023-01-07 15:59:00</th>\n",
       "      <td>0.000000</td>\n",
       "      <td>0.000000</td>\n",
       "      <td>0.000000</td>\n",
       "      <td>0.000000</td>\n",
       "      <td>0.000000</td>\n",
       "      <td>0.000000</td>\n",
       "      <td>0.000000</td>\n",
       "      <td>21.000000</td>\n",
       "    </tr>\n",
       "    <tr>\n",
       "      <th>2023-01-07 15:59:00</th>\n",
       "      <td>0.000000</td>\n",
       "      <td>0.000000</td>\n",
       "      <td>0.000000</td>\n",
       "      <td>0.000000</td>\n",
       "      <td>0.000000</td>\n",
       "      <td>0.000000</td>\n",
       "      <td>0.000000</td>\n",
       "      <td>21.000000</td>\n",
       "    </tr>\n",
       "    <tr>\n",
       "      <th>2023-01-07 15:59:00</th>\n",
       "      <td>0.310630</td>\n",
       "      <td>0.030366</td>\n",
       "      <td>273.000000</td>\n",
       "      <td>273.000000</td>\n",
       "      <td>1.000000</td>\n",
       "      <td>30.365599</td>\n",
       "      <td>310.629608</td>\n",
       "      <td>358.626129</td>\n",
       "    </tr>\n",
       "  </tbody>\n",
       "</table>\n",
       "<p>524211 rows × 8 columns</p>\n",
       "</div>"
      ],
      "text/plain": [
       "                     DRB.UEThpDl  DRB.UEThpUl  RRU.PrbUsedDl  RRU.PrbUsedUl  \\\n",
       "datetime_column                                                               \n",
       "2022-12-31 16:00:00     0.278192     0.278192      81.459016      81.459016   \n",
       "2022-12-31 16:00:00     0.146310     0.146310      50.000000      50.000000   \n",
       "2022-12-31 16:00:00     0.220303     0.220303      64.300000      64.300000   \n",
       "2022-12-31 16:00:00     0.186428     0.186428      80.900000      80.900000   \n",
       "2022-12-31 16:00:00     0.000000     0.000000       0.000000       0.000000   \n",
       "...                          ...          ...            ...            ...   \n",
       "2023-01-07 15:59:00     0.000000     0.000000       0.000000       0.000000   \n",
       "2023-01-07 15:59:00     0.000000     0.000000       0.000000       0.000000   \n",
       "2023-01-07 15:59:00     0.000000     0.000000       0.000000       0.000000   \n",
       "2023-01-07 15:59:00     0.000000     0.000000       0.000000       0.000000   \n",
       "2023-01-07 15:59:00     0.310630     0.030366     273.000000     273.000000   \n",
       "\n",
       "                     RRC.ConnMean  QosFlow.TotPdcpPduVolumeUl  \\\n",
       "datetime_column                                                 \n",
       "2022-12-31 16:00:00      1.786885                  277.868853   \n",
       "2022-12-31 16:00:00      0.516667                  146.050000   \n",
       "2022-12-31 16:00:00      1.450000                  220.083333   \n",
       "2022-12-31 16:00:00      1.916667                  186.083333   \n",
       "2022-12-31 16:00:00      0.000000                    0.000000   \n",
       "...                           ...                         ...   \n",
       "2023-01-07 15:59:00      0.000000                    0.000000   \n",
       "2023-01-07 15:59:00      0.000000                    0.000000   \n",
       "2023-01-07 15:59:00      0.000000                    0.000000   \n",
       "2023-01-07 15:59:00      0.000000                    0.000000   \n",
       "2023-01-07 15:59:00      1.000000                   30.365599   \n",
       "\n",
       "                     QosFlow.TotPdcpPduVolumeDl  PEE.AvgPower  \n",
       "datetime_column                                                \n",
       "2022-12-31 16:00:00                  277.868853    281.947679  \n",
       "2022-12-31 16:00:00                  146.050000    180.817352  \n",
       "2022-12-31 16:00:00                  220.083333    230.893458  \n",
       "2022-12-31 16:00:00                  186.083333    279.584476  \n",
       "2022-12-31 16:00:00                    0.000000     18.250000  \n",
       "...                                         ...           ...  \n",
       "2023-01-07 15:59:00                    0.000000     21.000000  \n",
       "2023-01-07 15:59:00                    0.000000     21.000000  \n",
       "2023-01-07 15:59:00                    0.000000     21.000000  \n",
       "2023-01-07 15:59:00                    0.000000     21.000000  \n",
       "2023-01-07 15:59:00                  310.629608    358.626129  \n",
       "\n",
       "[524211 rows x 8 columns]"
      ]
     },
     "execution_count": 5,
     "metadata": {},
     "output_type": "execute_result"
    }
   ],
   "source": [
    "seleted_columns = columns_with_high_corr\n",
    "df_1= df_1[seleted_columns].copy()\n",
    "df_1"
   ]
  },
  {
   "cell_type": "code",
   "execution_count": 6,
   "metadata": {},
   "outputs": [
    {
     "data": {
      "text/html": [
       "<div>\n",
       "<style scoped>\n",
       "    .dataframe tbody tr th:only-of-type {\n",
       "        vertical-align: middle;\n",
       "    }\n",
       "\n",
       "    .dataframe tbody tr th {\n",
       "        vertical-align: top;\n",
       "    }\n",
       "\n",
       "    .dataframe thead th {\n",
       "        text-align: right;\n",
       "    }\n",
       "</style>\n",
       "<table border=\"1\" class=\"dataframe\">\n",
       "  <thead>\n",
       "    <tr style=\"text-align: right;\">\n",
       "      <th></th>\n",
       "      <th>DRB.UEThpDl</th>\n",
       "      <th>DRB.UEThpUl</th>\n",
       "      <th>RRU.PrbUsedDl</th>\n",
       "      <th>RRU.PrbUsedUl</th>\n",
       "      <th>RRC.ConnMean</th>\n",
       "      <th>QosFlow.TotPdcpPduVolumeUl</th>\n",
       "      <th>QosFlow.TotPdcpPduVolumeDl</th>\n",
       "      <th>PEE.AvgPower</th>\n",
       "    </tr>\n",
       "    <tr>\n",
       "      <th>datetime_column</th>\n",
       "      <th></th>\n",
       "      <th></th>\n",
       "      <th></th>\n",
       "      <th></th>\n",
       "      <th></th>\n",
       "      <th></th>\n",
       "      <th></th>\n",
       "      <th></th>\n",
       "    </tr>\n",
       "  </thead>\n",
       "  <tbody>\n",
       "    <tr>\n",
       "      <th>2022-12-31 16:00:00</th>\n",
       "      <td>0.112853</td>\n",
       "      <td>0.109073</td>\n",
       "      <td>41.647609</td>\n",
       "      <td>40.984468</td>\n",
       "      <td>0.923145</td>\n",
       "      <td>108.877027</td>\n",
       "      <td>112.657593</td>\n",
       "      <td>163.482931</td>\n",
       "    </tr>\n",
       "    <tr>\n",
       "      <th>2022-12-31 16:01:00</th>\n",
       "      <td>0.100812</td>\n",
       "      <td>0.096750</td>\n",
       "      <td>42.121474</td>\n",
       "      <td>41.068910</td>\n",
       "      <td>0.923397</td>\n",
       "      <td>96.565170</td>\n",
       "      <td>100.627194</td>\n",
       "      <td>153.417886</td>\n",
       "    </tr>\n",
       "    <tr>\n",
       "      <th>2022-12-31 16:02:00</th>\n",
       "      <td>0.106379</td>\n",
       "      <td>0.102369</td>\n",
       "      <td>41.851282</td>\n",
       "      <td>40.958333</td>\n",
       "      <td>0.921795</td>\n",
       "      <td>102.151550</td>\n",
       "      <td>106.161736</td>\n",
       "      <td>158.808699</td>\n",
       "    </tr>\n",
       "    <tr>\n",
       "      <th>2022-12-31 16:03:00</th>\n",
       "      <td>0.100694</td>\n",
       "      <td>0.098010</td>\n",
       "      <td>42.577885</td>\n",
       "      <td>41.491026</td>\n",
       "      <td>0.922115</td>\n",
       "      <td>97.808665</td>\n",
       "      <td>100.492253</td>\n",
       "      <td>157.386986</td>\n",
       "    </tr>\n",
       "    <tr>\n",
       "      <th>2022-12-31 16:04:00</th>\n",
       "      <td>0.109902</td>\n",
       "      <td>0.107143</td>\n",
       "      <td>43.626603</td>\n",
       "      <td>42.665705</td>\n",
       "      <td>0.921795</td>\n",
       "      <td>106.939023</td>\n",
       "      <td>109.697512</td>\n",
       "      <td>167.089184</td>\n",
       "    </tr>\n",
       "    <tr>\n",
       "      <th>...</th>\n",
       "      <td>...</td>\n",
       "      <td>...</td>\n",
       "      <td>...</td>\n",
       "      <td>...</td>\n",
       "      <td>...</td>\n",
       "      <td>...</td>\n",
       "      <td>...</td>\n",
       "      <td>...</td>\n",
       "    </tr>\n",
       "    <tr>\n",
       "      <th>2023-01-07 15:55:00</th>\n",
       "      <td>0.110139</td>\n",
       "      <td>0.107350</td>\n",
       "      <td>42.102244</td>\n",
       "      <td>41.227244</td>\n",
       "      <td>0.922115</td>\n",
       "      <td>107.129670</td>\n",
       "      <td>109.918532</td>\n",
       "      <td>164.456731</td>\n",
       "    </tr>\n",
       "    <tr>\n",
       "      <th>2023-01-07 15:56:00</th>\n",
       "      <td>0.099864</td>\n",
       "      <td>0.098178</td>\n",
       "      <td>40.426282</td>\n",
       "      <td>39.726282</td>\n",
       "      <td>0.923077</td>\n",
       "      <td>97.959150</td>\n",
       "      <td>99.644908</td>\n",
       "      <td>159.064446</td>\n",
       "    </tr>\n",
       "    <tr>\n",
       "      <th>2023-01-07 15:57:00</th>\n",
       "      <td>0.114258</td>\n",
       "      <td>0.110941</td>\n",
       "      <td>40.190705</td>\n",
       "      <td>40.190705</td>\n",
       "      <td>0.923077</td>\n",
       "      <td>110.729551</td>\n",
       "      <td>114.046510</td>\n",
       "      <td>161.020629</td>\n",
       "    </tr>\n",
       "    <tr>\n",
       "      <th>2023-01-07 15:58:00</th>\n",
       "      <td>0.130465</td>\n",
       "      <td>0.125075</td>\n",
       "      <td>39.846154</td>\n",
       "      <td>39.846154</td>\n",
       "      <td>0.923077</td>\n",
       "      <td>124.872415</td>\n",
       "      <td>130.262108</td>\n",
       "      <td>162.009675</td>\n",
       "    </tr>\n",
       "    <tr>\n",
       "      <th>2023-01-07 15:59:00</th>\n",
       "      <td>0.126990</td>\n",
       "      <td>0.121548</td>\n",
       "      <td>39.262136</td>\n",
       "      <td>39.262136</td>\n",
       "      <td>0.912621</td>\n",
       "      <td>121.346905</td>\n",
       "      <td>126.788924</td>\n",
       "      <td>160.275452</td>\n",
       "    </tr>\n",
       "  </tbody>\n",
       "</table>\n",
       "<p>10080 rows × 8 columns</p>\n",
       "</div>"
      ],
      "text/plain": [
       "                     DRB.UEThpDl  DRB.UEThpUl  RRU.PrbUsedDl  RRU.PrbUsedUl  \\\n",
       "datetime_column                                                               \n",
       "2022-12-31 16:00:00     0.112853     0.109073      41.647609      40.984468   \n",
       "2022-12-31 16:01:00     0.100812     0.096750      42.121474      41.068910   \n",
       "2022-12-31 16:02:00     0.106379     0.102369      41.851282      40.958333   \n",
       "2022-12-31 16:03:00     0.100694     0.098010      42.577885      41.491026   \n",
       "2022-12-31 16:04:00     0.109902     0.107143      43.626603      42.665705   \n",
       "...                          ...          ...            ...            ...   \n",
       "2023-01-07 15:55:00     0.110139     0.107350      42.102244      41.227244   \n",
       "2023-01-07 15:56:00     0.099864     0.098178      40.426282      39.726282   \n",
       "2023-01-07 15:57:00     0.114258     0.110941      40.190705      40.190705   \n",
       "2023-01-07 15:58:00     0.130465     0.125075      39.846154      39.846154   \n",
       "2023-01-07 15:59:00     0.126990     0.121548      39.262136      39.262136   \n",
       "\n",
       "                     RRC.ConnMean  QosFlow.TotPdcpPduVolumeUl  \\\n",
       "datetime_column                                                 \n",
       "2022-12-31 16:00:00      0.923145                  108.877027   \n",
       "2022-12-31 16:01:00      0.923397                   96.565170   \n",
       "2022-12-31 16:02:00      0.921795                  102.151550   \n",
       "2022-12-31 16:03:00      0.922115                   97.808665   \n",
       "2022-12-31 16:04:00      0.921795                  106.939023   \n",
       "...                           ...                         ...   \n",
       "2023-01-07 15:55:00      0.922115                  107.129670   \n",
       "2023-01-07 15:56:00      0.923077                   97.959150   \n",
       "2023-01-07 15:57:00      0.923077                  110.729551   \n",
       "2023-01-07 15:58:00      0.923077                  124.872415   \n",
       "2023-01-07 15:59:00      0.912621                  121.346905   \n",
       "\n",
       "                     QosFlow.TotPdcpPduVolumeDl  PEE.AvgPower  \n",
       "datetime_column                                                \n",
       "2022-12-31 16:00:00                  112.657593    163.482931  \n",
       "2022-12-31 16:01:00                  100.627194    153.417886  \n",
       "2022-12-31 16:02:00                  106.161736    158.808699  \n",
       "2022-12-31 16:03:00                  100.492253    157.386986  \n",
       "2022-12-31 16:04:00                  109.697512    167.089184  \n",
       "...                                         ...           ...  \n",
       "2023-01-07 15:55:00                  109.918532    164.456731  \n",
       "2023-01-07 15:56:00                   99.644908    159.064446  \n",
       "2023-01-07 15:57:00                  114.046510    161.020629  \n",
       "2023-01-07 15:58:00                  130.262108    162.009675  \n",
       "2023-01-07 15:59:00                  126.788924    160.275452  \n",
       "\n",
       "[10080 rows x 8 columns]"
      ]
     },
     "execution_count": 6,
     "metadata": {},
     "output_type": "execute_result"
    }
   ],
   "source": [
    "try:\n",
    "    df_2= df_1.resample('min').mean().drop(columns=['Viavi.Cell.Name'])\n",
    "except:\n",
    "    df_2= df_1.resample('min').mean()\n",
    "df=df_2.astype(float).copy()\n",
    "df"
   ]
  },
  {
   "cell_type": "code",
   "execution_count": 7,
   "metadata": {},
   "outputs": [],
   "source": [
    "n = len(df)\n",
    "train_df =df[0:int(n*0.9048)]\n",
    "val_df = df[int(n*0.9048):]\n",
    "test_df = df[int(n*0.9048):]\n",
    "\n",
    "num_features = df.shape[1]"
   ]
  },
  {
   "cell_type": "code",
   "execution_count": 8,
   "metadata": {},
   "outputs": [],
   "source": [
    "import numpy as np\n",
    "import pandas as pd\n",
    "\n",
    "def standardize_data(data, isoutput=True, column_output=['RRU.PrbUsedDl', 'RRU.PrbUsedUl'], train_df=train_df):\n",
    "    if isoutput:\n",
    "        mean = train_df[column_output].mean().values\n",
    "        std = train_df[column_output].std().values\n",
    "    else:\n",
    "        mean = train_df.mean().values\n",
    "        std = train_df.std().values\n",
    "\n",
    "    # Reshape for broadcasting with 2D matrix\n",
    "    mean = mean.reshape(1, -1)\n",
    "    std = std.reshape(1, -1)\n",
    "\n",
    "    return (data - mean) / std\n",
    "\n",
    "def inverse_standardize_data(data, isoutput=True, column_output=['RRU.PrbUsedDl', 'RRU.PrbUsedUl'], train_df=train_df):\n",
    "    if isoutput:\n",
    "        mean = train_df[column_output].mean().values\n",
    "        std = train_df[column_output].std().values\n",
    "    else:\n",
    "        mean = train_df.mean().values\n",
    "        std = train_df.std().values\n",
    "\n",
    "    # Reshape for broadcasting with 2D matrix\n",
    "    mean = mean.reshape(1, -1)\n",
    "    std = std.reshape(1, -1)\n",
    "\n",
    "    return (data * std) + mean\n"
   ]
  },
  {
   "cell_type": "code",
   "execution_count": 9,
   "metadata": {},
   "outputs": [],
   "source": [
    "train_scaled = standardize_data(train_df, isoutput=False)\n",
    "val_scaled= standardize_data(val_df, isoutput=False)\n",
    "test_scaled= standardize_data(test_df, isoutput=False)"
   ]
  },
  {
   "cell_type": "code",
   "execution_count": 10,
   "metadata": {},
   "outputs": [],
   "source": [
    "# Konversi DataFrame ke TimeSeries\n",
    "train_input_series= TimeSeries.from_dataframe(train_scaled)\n",
    "train_target_series = TimeSeries.from_dataframe(train_scaled, value_cols=['RRU.PrbUsedDl','RRU.PrbUsedUl'])\n",
    "# Konversi DataFrame ke TimeSeries\n",
    "val_input_series= TimeSeries.from_dataframe(val_scaled)\n",
    "val_target_series = TimeSeries.from_dataframe(val_scaled, value_cols=['RRU.PrbUsedDl','RRU.PrbUsedUl'])\n"
   ]
  },
  {
   "cell_type": "code",
   "execution_count": 11,
   "metadata": {},
   "outputs": [
    {
     "data": {
      "text/plain": [
       "<AxesSubplot: xlabel='datetime_column'>"
      ]
     },
     "execution_count": 11,
     "metadata": {},
     "output_type": "execute_result"
    },
    {
     "data": {
      "image/png": "[encoded data removed]",
      "text/plain": [
       "<Figure size 640x480 with 1 Axes>"
      ]
     },
     "metadata": {},
     "output_type": "display_data"
    }
   ],
   "source": [
    "train_input_series[['RRU.PrbUsedDl','RRU.PrbUsedUl']].plot()"
   ]
  },
  {
   "cell_type": "code",
   "execution_count": 12,
   "metadata": {},
   "outputs": [
    {
     "name": "stdout",
     "output_type": "stream",
     "text": [
      "CUDA available: True\n",
      "CUDA device count: 1\n",
      "CUDA device name: NVIDIA GeForce RTX 3060 Laptop GPU\n"
     ]
    }
   ],
   "source": [
    "\n",
    "torch.set_float32_matmul_precision('medium')\n",
    "\n",
    "print(f\"CUDA available: {torch.cuda.is_available()}\")\n",
    "print(f\"CUDA device count: {torch.cuda.device_count()}\")\n",
    "print(f\"CUDA device name: {torch.cuda.get_device_name(0)}\")\n"
   ]
  },
  {
   "cell_type": "code",
   "execution_count": 13,
   "metadata": {},
   "outputs": [
    {
     "name": "stdout",
     "output_type": "stream",
     "text": [
      "20240720_2024\n"
     ]
    },
    {
     "name": "stderr",
     "output_type": "stream",
     "text": [
      "GPU available: True (cuda), used: True\n",
      "TPU available: False, using: 0 TPU cores\n",
      "IPU available: False, using: 0 IPUs\n",
      "HPU available: False, using: 0 HPUs\n",
      "LOCAL_RANK: 0 - CUDA_VISIBLE_DEVICES: [0]\n",
      "\n",
      "  | Name            | Type             | Params\n",
      "-----------------------------------------------------\n",
      "0 | criterion       | MSELoss          | 0     \n",
      "1 | train_criterion | MSELoss          | 0     \n",
      "2 | val_criterion   | MSELoss          | 0     \n",
      "3 | train_metrics   | MetricCollection | 0     \n",
      "4 | val_metrics     | MetricCollection | 0     \n",
      "5 | stacks          | ModuleList       | 56.8 M\n",
      "-----------------------------------------------------\n",
      "56.7 M    Trainable params\n",
      "9.8 K     Non-trainable params\n",
      "56.8 M    Total params\n",
      "227.010   Total estimated model params size (MB)\n"
     ]
    },
    {
     "data": {
      "application/vnd.jupyter.widget-view+json": {
       "model_id": "95f71ef1d4344057b96c7a3e63aaa2f5",
       "version_major": 2,
       "version_minor": 0
      },
      "text/plain": [
       "Sanity Checking: |          | 0/? [00:00<?, ?it/s]"
      ]
     },
     "metadata": {},
     "output_type": "display_data"
    },
    {
     "data": {
      "application/vnd.jupyter.widget-view+json": {
       "model_id": "195cf234aee941338830ce6c31f99257",
       "version_major": 2,
       "version_minor": 0
      },
      "text/plain": [
       "Training: |          | 0/? [00:00<?, ?it/s]"
      ]
     },
     "metadata": {},
     "output_type": "display_data"
    },
    {
     "data": {
      "application/vnd.jupyter.widget-view+json": {
       "model_id": "3dfac42f157c493eb40710f252dbd39b",
       "version_major": 2,
       "version_minor": 0
      },
      "text/plain": [
       "Validation: |          | 0/? [00:00<?, ?it/s]"
      ]
     },
     "metadata": {},
     "output_type": "display_data"
    },
    {
     "data": {
      "application/vnd.jupyter.widget-view+json": {
       "model_id": "321f45f5c7264321b49bcd46ffa132b7",
       "version_major": 2,
       "version_minor": 0
      },
      "text/plain": [
       "Validation: |          | 0/? [00:00<?, ?it/s]"
      ]
     },
     "metadata": {},
     "output_type": "display_data"
    },
    {
     "data": {
      "application/vnd.jupyter.widget-view+json": {
       "model_id": "c1c11195318e436ab512c36160f8dc45",
       "version_major": 2,
       "version_minor": 0
      },
      "text/plain": [
       "Validation: |          | 0/? [00:00<?, ?it/s]"
      ]
     },
     "metadata": {},
     "output_type": "display_data"
    },
    {
     "data": {
      "application/vnd.jupyter.widget-view+json": {
       "model_id": "a755ec99816a4231a9ab424c305e03c7",
       "version_major": 2,
       "version_minor": 0
      },
      "text/plain": [
       "Validation: |          | 0/? [00:00<?, ?it/s]"
      ]
     },
     "metadata": {},
     "output_type": "display_data"
    },
    {
     "data": {
      "application/vnd.jupyter.widget-view+json": {
       "model_id": "6deb4e19d98f4d238cf5e004efe9c151",
       "version_major": 2,
       "version_minor": 0
      },
      "text/plain": [
       "Validation: |          | 0/? [00:00<?, ?it/s]"
      ]
     },
     "metadata": {},
     "output_type": "display_data"
    },
    {
     "data": {
      "application/vnd.jupyter.widget-view+json": {
       "model_id": "6135c8a0f9094cd4ba01d7136cfe8d0b",
       "version_major": 2,
       "version_minor": 0
      },
      "text/plain": [
       "Validation: |          | 0/? [00:00<?, ?it/s]"
      ]
     },
     "metadata": {},
     "output_type": "display_data"
    },
    {
     "data": {
      "application/vnd.jupyter.widget-view+json": {
       "model_id": "5b17948aa80e48cda2d9c2107a087ce2",
       "version_major": 2,
       "version_minor": 0
      },
      "text/plain": [
       "Validation: |          | 0/? [00:00<?, ?it/s]"
      ]
     },
     "metadata": {},
     "output_type": "display_data"
    },
    {
     "data": {
      "application/vnd.jupyter.widget-view+json": {
       "model_id": "09a9044e50e545d18650a5789a667005",
       "version_major": 2,
       "version_minor": 0
      },
      "text/plain": [
       "Validation: |          | 0/? [00:00<?, ?it/s]"
      ]
     },
     "metadata": {},
     "output_type": "display_data"
    },
    {
     "data": {
      "application/vnd.jupyter.widget-view+json": {
       "model_id": "cfb8406b977e42d7ae1ad7d18ddb0739",
       "version_major": 2,
       "version_minor": 0
      },
      "text/plain": [
       "Validation: |          | 0/? [00:00<?, ?it/s]"
      ]
     },
     "metadata": {},
     "output_type": "display_data"
    },
    {
     "data": {
      "application/vnd.jupyter.widget-view+json": {
       "model_id": "0aaffff98fe2451fab55caef6b62150e",
       "version_major": 2,
       "version_minor": 0
      },
      "text/plain": [
       "Validation: |          | 0/? [00:00<?, ?it/s]"
      ]
     },
     "metadata": {},
     "output_type": "display_data"
    },
    {
     "data": {
      "application/vnd.jupyter.widget-view+json": {
       "model_id": "4eb174acc1cc427684e37babebf274a8",
       "version_major": 2,
       "version_minor": 0
      },
      "text/plain": [
       "Validation: |          | 0/? [00:00<?, ?it/s]"
      ]
     },
     "metadata": {},
     "output_type": "display_data"
    },
    {
     "data": {
      "application/vnd.jupyter.widget-view+json": {
       "model_id": "a780ecab5d7e411b915517b969401192",
       "version_major": 2,
       "version_minor": 0
      },
      "text/plain": [
       "Validation: |          | 0/? [00:00<?, ?it/s]"
      ]
     },
     "metadata": {},
     "output_type": "display_data"
    },
    {
     "data": {
      "application/vnd.jupyter.widget-view+json": {
       "model_id": "afe1486873754e14a43ebd42189a2aaf",
       "version_major": 2,
       "version_minor": 0
      },
      "text/plain": [
       "Validation: |          | 0/? [00:00<?, ?it/s]"
      ]
     },
     "metadata": {},
     "output_type": "display_data"
    },
    {
     "data": {
      "application/vnd.jupyter.widget-view+json": {
       "model_id": "b99bd8c919ff452dadf00c637aa666f2",
       "version_major": 2,
       "version_minor": 0
      },
      "text/plain": [
       "Validation: |          | 0/? [00:00<?, ?it/s]"
      ]
     },
     "metadata": {},
     "output_type": "display_data"
    },
    {
     "data": {
      "application/vnd.jupyter.widget-view+json": {
       "model_id": "49dafce4a64a4dad8925b9e2aacccc01",
       "version_major": 2,
       "version_minor": 0
      },
      "text/plain": [
       "Validation: |          | 0/? [00:00<?, ?it/s]"
      ]
     },
     "metadata": {},
     "output_type": "display_data"
    },
    {
     "data": {
      "application/vnd.jupyter.widget-view+json": {
       "model_id": "a003633700dd40b1a395bc6636d1de7d",
       "version_major": 2,
       "version_minor": 0
      },
      "text/plain": [
       "Validation: |          | 0/? [00:00<?, ?it/s]"
      ]
     },
     "metadata": {},
     "output_type": "display_data"
    },
    {
     "data": {
      "application/vnd.jupyter.widget-view+json": {
       "model_id": "e7a1ece71b974714ad8d0f35e54aa085",
       "version_major": 2,
       "version_minor": 0
      },
      "text/plain": [
       "Validation: |          | 0/? [00:00<?, ?it/s]"
      ]
     },
     "metadata": {},
     "output_type": "display_data"
    },
    {
     "data": {
      "application/vnd.jupyter.widget-view+json": {
       "model_id": "34af7a9a063543d89fd895ecff47082f",
       "version_major": 2,
       "version_minor": 0
      },
      "text/plain": [
       "Validation: |          | 0/? [00:00<?, ?it/s]"
      ]
     },
     "metadata": {},
     "output_type": "display_data"
    },
    {
     "data": {
      "application/vnd.jupyter.widget-view+json": {
       "model_id": "a9b75380ecdd48dfa8c19258c18b34db",
       "version_major": 2,
       "version_minor": 0
      },
      "text/plain": [
       "Validation: |          | 0/? [00:00<?, ?it/s]"
      ]
     },
     "metadata": {},
     "output_type": "display_data"
    },
    {
     "data": {
      "application/vnd.jupyter.widget-view+json": {
       "model_id": "6f71fca141be4e11a775ee24cfbb7f52",
       "version_major": 2,
       "version_minor": 0
      },
      "text/plain": [
       "Validation: |          | 0/? [00:00<?, ?it/s]"
      ]
     },
     "metadata": {},
     "output_type": "display_data"
    },
    {
     "name": "stderr",
     "output_type": "stream",
     "text": [
      "`Trainer.fit` stopped: `max_epochs=20` reached.\n"
     ]
    },
    {
     "name": "stdout",
     "output_type": "stream",
     "text": [
      "--- 1020.7133054733276 seconds ---\n"
     ]
    }
   ],
   "source": [
    "# Get the current date and time\n",
    "now = datetime.datetime.now()\n",
    "\n",
    "# Format the date and time to a string\n",
    "timestamp = now.strftime(\"%Y%m%d_%H%M\")\n",
    "print(timestamp)\n",
    "nama_file = '5b_nbeats_%s.pth' % timestamp\n",
    "model_name = '5b_nbeatscheckpoint_%s' % timestamp\n",
    "\n",
    "# Initialize and configure the N-BEATS model with a more complex architecture\n",
    "model = NBEATSModel(\n",
    "    input_chunk_length=120,  # Panjang input window\n",
    "    output_chunk_length=60,  # Panjang prediksi\n",
    "    n_epochs=20,  # Jumlah epoch pelatihan\n",
    "    random_state=0,\n",
    "    num_stacks=10,  # Number of stacks\n",
    "    num_blocks=4,  # Number of blocks per stack\n",
    "    num_layers=4,  # Number of layers per block\n",
    "    layer_widths=512,  # Width of each layer\n",
    "    pl_trainer_kwargs={\n",
    "        \"accelerator\": \"gpu\",\n",
    "        \"devices\": torch.cuda.device_count(),\n",
    "    },\n",
    "    model_name=model_name,\n",
    "    save_checkpoints=True,  # Disable automatic checkpointing by the model\n",
    ")\n",
    "\n",
    "# Start timer for training duration\n",
    "start_time = time.time()\n",
    "\n",
    "# Fit the model\n",
    "model.fit(\n",
    "    series=train_target_series,\n",
    "    past_covariates=train_input_series,\n",
    "    val_series=val_target_series,\n",
    "    val_past_covariates=val_input_series,\n",
    "    verbose=True\n",
    ")\n",
    "\n",
    "# Print the training duration\n",
    "print(\"--- %s seconds ---\" % (time.time() - start_time))\n",
    "\n",
    "# Save the model\n",
    "model.save(nama_file)"
   ]
  },
  {
   "cell_type": "code",
   "execution_count": 14,
   "metadata": {},
   "outputs": [
    {
     "name": "stderr",
     "output_type": "stream",
     "text": [
      "GPU available: True (cuda), used: True\n",
      "TPU available: False, using: 0 TPU cores\n",
      "IPU available: False, using: 0 IPUs\n",
      "HPU available: False, using: 0 HPUs\n",
      "LOCAL_RANK: 0 - CUDA_VISIBLE_DEVICES: [0]\n"
     ]
    },
    {
     "data": {
      "application/vnd.jupyter.widget-view+json": {
       "model_id": "e32fc2caae02407b955be9a87681d272",
       "version_major": 2,
       "version_minor": 0
      },
      "text/plain": [
       "Predicting: |          | 0/? [00:00<?, ?it/s]"
      ]
     },
     "metadata": {},
     "output_type": "display_data"
    },
    {
     "name": "stdout",
     "output_type": "stream",
     "text": [
      "--- 0.5924301147460938 seconds ---\n"
     ]
    }
   ],
   "source": [
    "loaded_model = NBEATSModel.load(nama_file)\n",
    "start_time= time.time()\n",
    "predictions = loaded_model.predict(n=60, series=train_target_series[-120:], past_covariates=train_input_series[-120:])\n",
    "print(\"--- %s seconds ---\" % (time.time() - start_time))"
   ]
  },
  {
   "cell_type": "code",
   "execution_count": 15,
   "metadata": {},
   "outputs": [
    {
     "data": {
      "text/plain": [
       "<AxesSubplot: xlabel='datetime_column'>"
      ]
     },
     "execution_count": 15,
     "metadata": {},
     "output_type": "execute_result"
    },
    {
     "data": {
      "image/png": "[encoded data removed]",
      "text/plain": [
       "<Figure size 640x480 with 1 Axes>"
      ]
     },
     "metadata": {},
     "output_type": "display_data"
    }
   ],
   "source": [
    "predictions.plot()"
   ]
  },
  {
   "cell_type": "code",
   "execution_count": 16,
   "metadata": {},
   "outputs": [],
   "source": [
    "values = predictions.values()\n",
    "time_index = predictions.time_index\n",
    "\n",
    "# Convert to DataFrame\n",
    "df_predictions = pd.DataFrame(values, index=time_index, columns=['RRU.PrbUsedDl', 'RRU.PrbUsedUl'])\n",
    "df_predictions =inverse_standardize_data(df_predictions, isoutput=True, column_output=['RRU.PrbUsedDl', 'RRU.PrbUsedUl'], train_df=train_df)"
   ]
  },
  {
   "cell_type": "code",
   "execution_count": 17,
   "metadata": {},
   "outputs": [
    {
     "data": {
      "text/plain": [
       "<AxesSubplot: xlabel='datetime_column'>"
      ]
     },
     "execution_count": 17,
     "metadata": {},
     "output_type": "execute_result"
    },
    {
     "data": {
      "image/png": "[encoded data removed]",
      "text/plain": [
       "<Figure size 640x480 with 1 Axes>"
      ]
     },
     "metadata": {},
     "output_type": "display_data"
    }
   ],
   "source": [
    "TimeSeries.from_dataframe(df.loc[df_predictions.index][['RRU.PrbUsedDl', 'RRU.PrbUsedUl']]).plot()"
   ]
  }
 ],
 "metadata": {
  "kernelspec": {
   "display_name": "tf_gpu_env",
   "language": "python",
   "name": "python3"
  },
  "language_info": {
   "codemirror_mode": {
    "name": "ipython",
    "version": 3
   },
   "file_extension": ".py",
   "mimetype": "text/x-python",
   "name": "python",
   "nbconvert_exporter": "python",
   "pygments_lexer": "ipython3",
   "version": "3.10.13"
  }
 },
 "nbformat": 4,
 "nbformat_minor": 2
}
