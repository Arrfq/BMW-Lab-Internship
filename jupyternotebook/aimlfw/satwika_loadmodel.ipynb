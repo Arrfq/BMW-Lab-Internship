{
 "cells": [
  {
   "cell_type": "code",
   "execution_count": 4,
   "metadata": {},
   "outputs": [],
   "source": [
    "def train_export_model(trainingjobName: str, epochs: str, version: str):\n",
    "    \n",
    "    import tensorflow as tf\n",
    "    from numpy import array\n",
    "    from tensorflow.keras.models import Sequential\n",
    "    from tensorflow.keras.layers import Dense\n",
    "    from tensorflow.keras.layers import Flatten, Dropout, Activation\n",
    "    from tensorflow.keras.layers import LSTM\n",
    "    import numpy as np\n",
    "    print(\"numpy version\")\n",
    "    print(np.__version__)\n",
    "    import pandas as pd\n",
    "    import os\n",
    "    from featurestoresdk.feature_store_sdk import FeatureStoreSdk\n",
    "    from modelmetricsdk.model_metrics_sdk import ModelMetricsSdk\n",
    "    \n",
    "    fs_sdk = FeatureStoreSdk()\n",
    "    mm_sdk = ModelMetricsSdk()\n",
    "    \n",
    "    features = fs_sdk.get_features(trainingjobName, ['DRB.UEThpDl','RRU.PrbUsedDl','RRC.ConnMean','QosFlow.TotPdcpPduVolumeDl', 'PEE.AvgPower', 'timestamp'])\n",
    "    \n",
    "    print(\"all feature:\")\n",
    "    print(features.columns)\n",
    "    print(features.head())\n",
    "    \n",
    "    \n",
    "    name_file=\"https://drive.usercontent.google.com/download?id=1V4QM4hrY2n9IBgMrUqCASVT8YrBZruQb&export=download&authuser=0&confirm=t&uuid=1bd3af69-a9df-444d-b907-f25be9f30593&at=APZUnTW02bjx9IwiYRtRjdcVzw-j:1722398536728\"\n",
    "    import urllib.request\n",
    "    urllib.request.urlretrieve(\n",
    "            name_file, 'model_tensor.hdf5')\n",
    "    print(\"url berhasil\")\n",
    "    model = tf.keras.models.load_model('./model_tensor.hdf5')\n",
    "    print(\"modelnya adalah: \")\n",
    "    print(model)\n",
    "    #xx = y\n",
    "    #yy = yhat\n",
    "    model.save(\"./\")\n",
    "    import json\n",
    "    data = {}\n",
    "    data['metrics'] = [0]\n",
    "    #data['metrics'].append({'Accuracy': str(np.mean(np.absolute(np.asarray(xx)-np.asarray(yy))<5))})\n",
    "    \n",
    "    mm_sdk.upload_metrics(data, trainingjobName, version)\n",
    "    mm_sdk.upload_model(\"./\", trainingjobName, version)"
   ]
  },
  {
   "cell_type": "code",
   "execution_count": 16,
   "metadata": {},
   "outputs": [
    {
     "name": "stdout",
     "output_type": "stream",
     "text": [
      "numpy version\n",
      "1.24.3\n",
      "url berhasil\n",
      "modelnya adalah: \n",
      "<keras.engine.sequential.Sequential object at 0x0000023439CF8670>\n"
     ]
    }
   ],
   "source": [
    "\n",
    "import tensorflow as tf\n",
    "from numpy import array\n",
    "from tensorflow.keras.models import Sequential\n",
    "from tensorflow.keras.layers import Dense\n",
    "from tensorflow.keras.layers import Flatten, Dropout, Activation\n",
    "from tensorflow.keras.layers import LSTM\n",
    "import numpy as np\n",
    "print(\"numpy version\")\n",
    "print(np.__version__)\n",
    "name_file='https://drive.usercontent.google.com/download?id=1DoB_MJHXDRaKvjAwHzPNZHdmx0Gl87nd&export=download&authuser=0&confirm=t&uuid=798deac7-ba99-4116-bb8b-7cb3ef043ce8&at=APZUnTUg8mVcxXbOXkJx3qS3K9cu:1723001283357'\n",
    "import urllib.request\n",
    "urllib.request.urlretrieve(\n",
    "        name_file, 'model_tensor.hdf5')\n",
    "print(\"url berhasil\")\n",
    "model = tf.keras.models.load_model('model_tensor.hdf5')\n",
    "print(\"modelnya adalah: \")\n",
    "print(model)\n",
    "#xx = y\n",
    "#yy = yhat\n",
    "import json\n",
    "data = {}\n",
    "data['metrics'] = [0]\n"
   ]
  }
 ],
 "metadata": {
  "kernelspec": {
   "display_name": "Python 3 (ipykernel)",
   "language": "python",
   "name": "python3"
  },
  "language_info": {
   "codemirror_mode": {
    "name": "ipython",
    "version": 3
   },
   "file_extension": ".py",
   "mimetype": "text/x-python",
   "name": "python",
   "nbconvert_exporter": "python",
   "pygments_lexer": "ipython3",
   "version": "3.8.19"
  }
 },
 "nbformat": 4,
 "nbformat_minor": 4
}
