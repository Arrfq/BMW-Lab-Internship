{
 "cells": [
  {
   "cell_type": "code",
   "execution_count": 79,
   "metadata": {},
   "outputs": [],
   "source": [
    "import kfp\n",
    "import kfp.components as components\n",
    "import kfp.dsl as dsl\n",
    "from kfp.components import InputPath, OutputPath"
   ]
  },
  {
   "cell_type": "code",
   "execution_count": 80,
   "metadata": {},
   "outputs": [],
   "source": [
    "def train_export_model(trainingjobName: str, epochs: str, version: str):\n",
    "    \n",
    "    import tensorflow as tf\n",
    "    from numpy import array\n",
    "    from tensorflow.keras.models import Sequential\n",
    "    from tensorflow.keras.layers import Dense\n",
    "    from tensorflow.keras.layers import Flatten, Dropout, Activation\n",
    "    from tensorflow.keras.layers import LSTM\n",
    "    import numpy as np\n",
    "    print(\"numpy version\")\n",
    "    print(np.__version__)\n",
    "    import pandas as pd\n",
    "    import os\n",
    "    from featurestoresdk.feature_store_sdk import FeatureStoreSdk\n",
    "    from modelmetricsdk.model_metrics_sdk import ModelMetricsSdk\n",
    "    \n",
    "    fs_sdk = FeatureStoreSdk()\n",
    "    mm_sdk = ModelMetricsSdk()\n",
    "    \n",
    "    features = fs_sdk.get_features(trainingjobName, ['DRB.UEThpDl','RRU.PrbUsedDl','RRC.ConnMean','QosFlow.TotPdcpPduVolumeDl', 'PEE.AvgPower', 'timestamp'])\n",
    "    \n",
    "    print(\"all feature:\")\n",
    "    print(features.columns)\n",
    "    \n",
    "    name_file=\"https://drive.usercontent.google.com/download?id=1DoB_MJHXDRaKvjAwHzPNZHdmx0Gl87nd&export=download&authuser=0&confirm=t&uuid=798deac7-ba99-4116-bb8b-7cb3ef043ce8&at=APZUnTUg8mVcxXbOXkJx3qS3K9cu:1723001283357\"\n",
    "    import urllib.request\n",
    "    urllib.request.urlretrieve(\n",
    "            name_file, 'model_tensor2.hdf5')\n",
    "    \n",
    "    print(\"url succeeded\")\n",
    "    \n",
    "    model = tf.keras.models.load_model('./model_tensor2.hdf5')\n",
    "    \n",
    "    print(\"load mymodel succeeded \")\n",
    "    print(model.summary())\n",
    "    model.save(\"./\")\n",
    "    xx=[0]\n",
    "    yy=[0]\n",
    "    import json\n",
    "    data = {}\n",
    "    data['metrics'] = []\n",
    "    data['metrics'].append({'Accuracy': str(np.mean(np.absolute(np.asarray(xx)-np.asarray(yy))<5))})\n",
    "    \n",
    "    mm_sdk.upload_metrics(data, trainingjobName, version)\n",
    "    mm_sdk.upload_model(\"./\", trainingjobName, version)"
   ]
  },
  {
   "cell_type": "code",
   "execution_count": 81,
   "metadata": {},
   "outputs": [],
   "source": [
    "BASE_IMAGE = \"traininghost/pipelineimage:latest\""
   ]
  },
  {
   "cell_type": "code",
   "execution_count": 82,
   "metadata": {},
   "outputs": [],
   "source": [
    "def train_and_export(trainingjobName: str, epochs: str, version: str):\n",
    "    trainOp = components.func_to_container_op(train_export_model, base_image=BASE_IMAGE)(trainingjobName, epochs,version)\n",
    "    # Below line to disable caching of pipeline step\n",
    "    trainOp.execution_options.caching_strategy.max_cache_staleness = \"P0D\"\n",
    "    trainOp.container.set_image_pull_policy(\"IfNotPresent\")"
   ]
  },
  {
   "cell_type": "code",
   "execution_count": 83,
   "metadata": {},
   "outputs": [],
   "source": [
    "@dsl.pipeline(\n",
    "    name=\"qoetest\",\n",
    "    description=\"qoe\",\n",
    ")\n",
    "def super_model_pipeline( \n",
    "    trainingjob_name: str, epochs: str, version: str):\n",
    "    \n",
    "    train_and_export(trainingjob_name, epochs, version)"
   ]
  },
  {
   "cell_type": "code",
   "execution_count": 84,
   "metadata": {},
   "outputs": [],
   "source": [
    "pipeline_func = super_model_pipeline\n",
    "file_name = \"qoe_model_pipeline\"\n",
    "\n",
    "kfp.compiler.Compiler().compile(pipeline_func,  \n",
    "  '{}.zip'.format(file_name))"
   ]
  },
  {
   "cell_type": "code",
   "execution_count": 85,
   "metadata": {},
   "outputs": [
    {
     "data": {
      "text/plain": [
       "<Response [200]>"
      ]
     },
     "execution_count": 85,
     "metadata": {},
     "output_type": "execute_result"
    }
   ],
   "source": [
    "import requests\n",
    "pipeline_name=\"qoetest\"\n",
    "pipeline_file = file_name+'.zip'\n",
    "requests.post(\"http://tm.traininghost:32002/pipelines/qoetest/upload\".format(pipeline_name), files={'file':open(pipeline_file,'rb')})"
   ]
  },
  {
   "cell_type": "code",
   "execution_count": null,
   "metadata": {},
   "outputs": [],
   "source": []
  },
  {
   "cell_type": "code",
   "execution_count": null,
   "metadata": {},
   "outputs": [],
   "source": []
  }
 ],
 "metadata": {
  "kernelspec": {
   "display_name": "Python 3 (ipykernel)",
   "language": "python",
   "name": "python3"
  },
  "language_info": {
   "codemirror_mode": {
    "name": "ipython",
    "version": 3
   },
   "file_extension": ".py",
   "mimetype": "text/x-python",
   "name": "python",
   "nbconvert_exporter": "python",
   "pygments_lexer": "ipython3",
   "version": "3.9.6"
  }
 },
 "nbformat": 4,
 "nbformat_minor": 4
}
