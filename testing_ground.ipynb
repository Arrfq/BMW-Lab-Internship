{
 "cells": [
  {
   "cell_type": "code",
   "execution_count": 7,
   "metadata": {},
   "outputs": [],
   "source": [
    "import numpy as np\n",
    "\n",
    "def levenshtein_distance(s1, s2):\n",
    "    len_s1, len_s2 = len(s1) + 1, len(s2) + 1\n",
    "    dp = np.zeros((len_s1, len_s2))\n",
    "    for i in range(len_s1):\n",
    "        dp[i][0] = i\n",
    "    for j in range(len_s2):\n",
    "        dp[0][j] = j\n",
    "    for i in range(1, len_s1):\n",
    "        for j in range(1, len_s2):\n",
    "            cost = 0 if s1[i-1] == s2[j-1] else 1\n",
    "            dp[i][j] = min(dp[i-1][j] + 1, dp[i][j-1] + 1, dp[i-1][j-1] + cost)\n",
    "    return dp[-1][-1]"
   ]
  },
  {
   "cell_type": "code",
   "execution_count": 8,
   "metadata": {},
   "outputs": [],
   "source": [
    "def jaccard_similarity(str1, str2):\n",
    "    set1 = set(str1.split())\n",
    "    set2 = set(str2.split())\n",
    "    intersection = set1.intersection(set2)\n",
    "    union = set1.union(set2)\n",
    "    return len(intersection) / len(union)"
   ]
  },
  {
   "cell_type": "code",
   "execution_count": 9,
   "metadata": {},
   "outputs": [
    {
     "name": "stdout",
     "output_type": "stream",
     "text": [
      "0.6029748160380572\n"
     ]
    }
   ],
   "source": [
    "from sklearn.feature_extraction.text import TfidfVectorizer\n",
    "from sklearn.metrics.pairwise import cosine_similarity\n",
    "\n",
    "vectorizer = TfidfVectorizer()"
   ]
  },
  {
   "cell_type": "code",
   "execution_count": 10,
   "metadata": {},
   "outputs": [],
   "source": [
    "text1 = \"S1/N77/C1:\\n\\\n",
    "        Average power consumption: 27.376261\\n\\\n",
    "        Average number of RRC connections: 1\\n\\\n",
    "        Total PRB Used in Downlink: 13.0\\n\\\n",
    "        Total PRB Used in Uplink: 273\"\n",
    "text2 = \"S1/N77/C2:\\n\\\n",
    "        Average power consumption: 43.413502 (in the first 8 instances) and 113.654007 (in the last 8 instances)\\n\\\n",
    "        Average number of RRC connections: 1\\n\\\n",
    "        Total PRB Used in Downlink: 63.0 (in the first 8 instances) and 273.0 (in the last 8 instances)\\n\\\n",
    "        Total PRB Used in Uplink: 273 (in the first 8 instances) and 273.0 (in the last 8 instances)\"\n",
    "text3 = \"S1/N77/C3:\\n\\\n",
    "        Average power consumption: 90.934380 (in the first 8 instances) and 373.626129 (in the last 8 instances)\\n\\\n",
    "        Average number of RRC connections: 6\\n\\\n",
    "        Total PRB Used in Downlink: 273.0 (in the first 8 instances) and 273.0 (in the last 8 instances)\\n\\\n",
    "        Total PRB Used in Uplink: 273 (in the first 8 instances) and 273.0 (in the last 8 instances)\"\n",
    "\n",
    "texts = [text1, text2, text3]"
   ]
  },
  {
   "cell_type": "code",
   "execution_count": 20,
   "metadata": {},
   "outputs": [],
   "source": [
    "import numpy as np\n",
    "\n",
    "j_sim = []\n",
    "l_dist = []\n",
    "cos_sim = []\n",
    "for i in range(len(texts)):\n",
    "    for j in range(i+1, len(texts)):\n",
    "        similarity = jaccard_similarity(texts[i], texts[j])\n",
    "        j_sim.append((texts[i], texts[j], similarity))\n",
    "        similarity = levenshtein_distance(texts[i], texts[j])\n",
    "        l_dist.append((texts[i], texts[j], similarity))\n",
    "        tested_texts = [texts[i], texts[j]]\n",
    "        tfidf_matrix = vectorizer.fit_transform(tested_texts)\n",
    "        similarity = cosine_similarity(tfidf_matrix[0], tfidf_matrix[1])[0][0]\n",
    "        cos_sim.append((texts[i], texts[j], similarity))"
   ]
  },
  {
   "cell_type": "code",
   "execution_count": 22,
   "metadata": {},
   "outputs": [
    {
     "name": "stdout",
     "output_type": "stream",
     "text": [
      "Jaccard Similarity\n",
      "text 1 and text 2:  0.5\n",
      "text 1 and text 3:  0.4666666666666667\n",
      "text 2 and text 3:  0.7096774193548387\n",
      "Levenshtein Distance\n",
      "text 1 and text 2:  201.0\n",
      "text 1 and text 3:  201.0\n",
      "text 2 and text 3:  200.0\n",
      "Cosine Similarity\n",
      "text 1 and text 2:  0.4121724079347329\n",
      "text 1 and text 3:  0.4121724079347329\n",
      "text 2 and text 3:  0.41791910175283836\n"
     ]
    }
   ],
   "source": [
    "print (\"Jaccard Similarity\")\n",
    "k = 0\n",
    "for i in range(len(texts)):\n",
    "    for j in range(i+1, len(texts)):\n",
    "        print(\"text \" + str(i+1) + \" and text \" + str(j+1) + \": \", j_sim[k][2])\n",
    "        k = k + 1\n",
    "        \n",
    "print (\"Levenshtein Distance\")\n",
    "k = 0\n",
    "for i in range(len(texts)):\n",
    "    for j in range(i+1, len(texts)):\n",
    "        print(\"text \" + str(i+1) + \" and text \" + str(j+1) + \": \", l_dist[i][2])\n",
    "        k = k + 1\n",
    "        \n",
    "print (\"Cosine Similarity\")\n",
    "k = 0\n",
    "for i in range(len(texts)):\n",
    "    for j in range(i+1, len(texts)):\n",
    "        print(\"text \" + str(i+1) + \" and text \" + str(j+1) + \": \", cos_sim[i][2])\n",
    "        k = k + 1"
   ]
  },
  {
   "cell_type": "code",
   "execution_count": 25,
   "metadata": {},
   "outputs": [],
   "source": [
    "text1 = \"[CellID]:\\n\\\n",
    "        Average power consumption: [avg_cons]\\n\\\n",
    "        Average number of RRC connections: [rcc]\\n\\\n",
    "        Total PRB Used in Downlink: [prbdown]\\n\\\n",
    "        Total PRB Used in Uplink: [prbup]\"\n",
    "text2 = \"[CellID]:\\n\\\n",
    "        Average power consumption: [avg_cons] (in the first 8 instances) and [avg_cons] (in the last 8 instances)\\n\\\n",
    "        Average number of RRC connections: [rcc]\\n\\\n",
    "        Total PRB Used in Downlink: [prbdown] (in the first 8 instances) and [prbdown] (in the last 8 instances)\\n\\\n",
    "        Total PRB Used in Uplink: [prbup] (in the first 8 instances) and [prbup] (in the last 8 instances)\"\n",
    "text3 = \"[CellID]:\\n\\\n",
    "        Average power consumption: [avg_cons] (in the first 8 instances) and [avg_cons] (in the last 8 instances)\\n\\\n",
    "        Average number of RRC connections: [rcc]\\n\\\n",
    "        Total PRB Used in Downlink: [prbdown] (in the first 8 instances) and [prbdown] (in the last 8 instances)\\n\\\n",
    "        Total PRB Used in Uplink: [prbup] (in the first 8 instances) and [prbup] (in the last 8 instances)\"\n",
    "\n",
    "texts = [text1, text2, text3]"
   ]
  },
  {
   "cell_type": "code",
   "execution_count": 26,
   "metadata": {},
   "outputs": [],
   "source": [
    "import numpy as np\n",
    "\n",
    "j_sim = []\n",
    "l_dist = []\n",
    "cos_sim = []\n",
    "for i in range(len(texts)):\n",
    "    for j in range(i+1, len(texts)):\n",
    "        similarity = jaccard_similarity(texts[i], texts[j])\n",
    "        j_sim.append((texts[i], texts[j], similarity))\n",
    "        similarity = levenshtein_distance(texts[i], texts[j])\n",
    "        l_dist.append((texts[i], texts[j], similarity))\n",
    "        tested_texts = [texts[i], texts[j]]\n",
    "        tfidf_matrix = vectorizer.fit_transform(tested_texts)\n",
    "        similarity = cosine_similarity(tfidf_matrix[0], tfidf_matrix[1])[0][0]\n",
    "        cos_sim.append((texts[i], texts[j], similarity))"
   ]
  },
  {
   "cell_type": "code",
   "execution_count": 27,
   "metadata": {},
   "outputs": [
    {
     "name": "stdout",
     "output_type": "stream",
     "text": [
      "Jaccard Similarity\n",
      "text 1 and text 2:  0.72\n",
      "text 1 and text 3:  0.72\n",
      "text 2 and text 3:  1.0\n",
      "Levenshtein Distance\n",
      "text 1 and text 2:  200.0\n",
      "text 1 and text 3:  200.0\n",
      "text 2 and text 3:  200.0\n",
      "Cosine Similarity\n",
      "text 1 and text 2:  0.48439375564055015\n",
      "text 1 and text 3:  0.48439375564055015\n",
      "text 2 and text 3:  0.48439375564055015\n"
     ]
    }
   ],
   "source": [
    "print (\"Jaccard Similarity\")\n",
    "k = 0\n",
    "for i in range(len(texts)):\n",
    "    for j in range(i+1, len(texts)):\n",
    "        print(\"text \" + str(i+1) + \" and text \" + str(j+1) + \": \", j_sim[k][2])\n",
    "        k = k + 1\n",
    "        \n",
    "print (\"Levenshtein Distance\")\n",
    "k = 0\n",
    "for i in range(len(texts)):\n",
    "    for j in range(i+1, len(texts)):\n",
    "        print(\"text \" + str(i+1) + \" and text \" + str(j+1) + \": \", l_dist[i][2])\n",
    "        k = k + 1\n",
    "        \n",
    "print (\"Cosine Similarity\")\n",
    "k = 0\n",
    "for i in range(len(texts)):\n",
    "    for j in range(i+1, len(texts)):\n",
    "        print(\"text \" + str(i+1) + \" and text \" + str(j+1) + \": \", cos_sim[i][2])\n",
    "        k = k + 1"
   ]
  }
 ],
 "metadata": {
  "kernelspec": {
   "display_name": "py310",
   "language": "python",
   "name": "python3"
  },
  "language_info": {
   "codemirror_mode": {
    "name": "ipython",
    "version": 3
   },
   "file_extension": ".py",
   "mimetype": "text/x-python",
   "name": "python",
   "nbconvert_exporter": "python",
   "pygments_lexer": "ipython3",
   "version": "3.10.9"
  }
 },
 "nbformat": 4,
 "nbformat_minor": 2
}
