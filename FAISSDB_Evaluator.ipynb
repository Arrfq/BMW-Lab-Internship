{
 "cells": [
  {
   "cell_type": "code",
   "execution_count": null,
   "metadata": {},
   "outputs": [],
   "source": [
    "API_KEY = 'YOUR_API_KEY' # put the nvidia api key here"
   ]
  },
  {
   "cell_type": "code",
   "execution_count": 6,
   "metadata": {},
   "outputs": [
    {
     "name": "stderr",
     "output_type": "stream",
     "text": [
      "c:\\Users\\Michael\\anaconda3\\envs\\py310\\lib\\site-packages\\langchain_nvidia_ai_endpoints\\_statics.py:545: UserWarning: Model nvolveqa_40k is deprecated. Using NV-Embed-QA instead.\n",
      "  warnings.warn(\n",
      "c:\\Users\\Michael\\anaconda3\\envs\\py310\\lib\\site-packages\\langchain_nvidia_ai_endpoints\\embeddings.py:88: UserWarning: Setting truncate=\"END\" for nvolveqa_40k backward compatibility\n",
      "  warnings.warn(\n"
     ]
    }
   ],
   "source": [
    "from langchain_nvidia_ai_endpoints import NVIDIAEmbeddings\n",
    "# Embeddings with NVIDIA AI Foundation Endpoints\n",
    "nv_embedder = NVIDIAEmbeddings(model=\"nvolveqa_40k\",api_key=API_KEY)"
   ]
  },
  {
   "cell_type": "code",
   "execution_count": 7,
   "metadata": {},
   "outputs": [
    {
     "data": {
      "text/plain": [
       "VectorStoreRetriever(tags=['FAISS', 'NVIDIAEmbeddings'], vectorstore=<langchain_community.vectorstores.faiss.FAISS object at 0x000001AE3D957AF0>, search_type='similarity_score_threshold', search_kwargs={'score_threshold': 0.3, 'k': 10})"
      ]
     },
     "execution_count": 7,
     "metadata": {},
     "output_type": "execute_result"
    }
   ],
   "source": [
    "from langchain_community.vectorstores import FAISS\n",
    "vectorstore = FAISS.load_local(\"data/vectorstore_nv\", nv_embedder, allow_dangerous_deserialization=True)\n",
    "retriever = vectorstore.as_retriever(search_type=\"similarity_score_threshold\",\n",
    "                                     search_kwargs={\"score_threshold\": .3,\n",
    "                                     \"k\": 10}) #search_type=\"similarity_score_threshold\",\n",
    "retriever"
   ]
  },
  {
   "cell_type": "code",
   "execution_count": 10,
   "metadata": {},
   "outputs": [],
   "source": [
    "def retrieve_docs(text, retriever):\n",
    "    concatdocs = \"\"\n",
    "    sources = {}\n",
    "    srcs = \"\"\n",
    "    try:\n",
    "        docs = retriever.get_relevant_documents(text)\n",
    "\n",
    "    except UserWarning as e:\n",
    "        print(f\"A UserWarning was caught: {e}\")\n",
    "        pass\n",
    "\n",
    "    if(len(docs)>0):\n",
    "        for doc in docs:\n",
    "            concatdocs += doc.page_content + \"\\n\"\n",
    "            srcs += (doc.metadata['source']) + \"\\n\\n\"\n",
    "            sources[doc.metadata['source']] = {\"doc_content\": doc.page_content, \"doc_metadata\": doc.metadata['source']}\n",
    "    return concatdocs, sources, srcs"
   ]
  },
  {
   "cell_type": "code",
   "execution_count": 11,
   "metadata": {},
   "outputs": [
    {
     "data": {
      "text/plain": [
       "'VES O1 format A Harmonized VES event, as specified in the VES Event Listener Specification [18], containing stndDefinedFields with a \"data\" element that contains either a 3GPP-specified notifySoftwareActivate or an O-RAN-specified o1NotifySoftwareActivate notification.  57 © 2024 by the O-RAN ALLIANCE e.V. Your use is subject to the copyright statement on the cover page of this specification. O-RAN.WG10.O1-Interface.0-R003-v13.00 6.9 PNF Reset Management Services 6.9.0 Overview PNF Reset Management Services allow a PNF Reset MnS Consumer to trigger a reset of a HW unit of a PNF Reset MnS Producer on command. 6.9.1 PNF Reset Command 6.9.1.1 Description\\nHarmonized VES Legacy VES Harmonized VES refers to the stndDefined VES event specified in VES Event Listener Specification [18] that allows a VES event to carry, as its payload, a notification specified by an SDO. In the case of O-RAN O1 Interface Specification, a harmonized stndDefined VES event carries either a 3GPP-specified O1 notification or an O-RAN specified O1 notification as its payload. Legacy VES refers to any VES event specified in the VES Event Listener Specification [18], except for stndDefined. Legacy VES events are fully defined in [18] and don’t rely on an SDO to specify the content of the payload. The Legacy VES events supported by O1 Interface Specification is PNF Registration.\\nSDO O1 format An O1-supported 3GPP-specified notifyFileReady notification, as specified in 3GPP TS 28.532 [3]. VES O1 format A Harmonized VES event, as specified in the VES Event Listener Specification [18], containing stndDefinedFields with a \"data\" element that contains an O1-supported 3GPP-specified File Ready notification, as specified in 3GPP TS 28.532 [3]. The O1-supported 3GPP-specified File Ready notification is: notifyFileReady. 6.3.1.5 PM File Generation and Reporting When the pull-based Performance Data File Reporting method is used, the following PM File Generation and Reporting requirements apply: PM file generation and reporting shall be as specified in 3GPP TS 28.532 [3] clause 11.6.\\ninclude an additionalText and/or additionalInformation field when appropriate. A VES O1 format notification is an O1 notification formatted as specified by VES Event Listener Specification [18], consisting of a common event header and domain-specific event fields. VES O1 format notifications are categorized into 2 types, based on domain: Harmonized VES Legacy VES\\npnfRegistration: VES O1 format A legacy pnfRegistration VES event, as specified in the VES Event Listener Specification [18]. 6.8 PNF Software Management Services 6.8.0 Overview Software management services allow a PNF Software MnS Consumer to request a physical PNF Software MnS Producer to download, install, validate and activate a new software package and allow a physical PNF Software MnS Producer to report its software versions. 6.8.1 Software Package Naming and Content\\nAn O1 notification shall be in one of the following formats: SDO O1 format VES O1 format An SDO O1 format notification is an O1 notification formatted as specified by a Standards Defining Organization (SDO). Currently, O1 supports SDO O1 format notifications that are either 3GPP-specified or O-RAN-specified. SDO O1 format notifications are formatted as specified by the SDO and sent without a VES header. 3GPP-specified O1 notifications are specified in 3GPP TS 28.532 [3], clause 11 and clause 12. O-RAN-specified O1 notifications are specified in the O-RAN O1 Network Resource Model Specification [i.16].\\n1. 3GPP format: o A 3GPP fault notification as specified in TS 28.532 [4]. 2. VES format: o A harmonized stndDefined VES event, consisting of a VES commonEventHeader and stndDefinedFields with a “data” element that contains a 3GPP fault notification, as specified in TS 28.532 [4]. The stndDefined VES event is specified in the VES Event Listener Specification [31]. Annex B in this document provides more information about stndDefined VES events. o A legacy fault VES event, consisting of a VES commonEventHeader and faultFields, as specified in the VES Event Listener Specification [31], is also allowed for backward compatibility. However, a stndDefined VES event is the preferred VES format going forward.\\n2. VES format: o A harmonized stndDefined VES event, consisting of a VES commonEventHeader and stndDefinedFields with a “data” element that contains a 3GPP notifyHeartbeat notification, as specified in 3GPP TS 28.532 [4]. The stndDefined VES event is specified in the VES Event Listener Specification [31]. Annex B in this document provides more information about stndDefined VES events. o A legacy heartbeat VES event, consisting of a VES commonEventHeader and heartbeatFields, as specified in the VES Event Listener Specification [31], is also allowed for backward compatibility. However, a stndDefined VES event is the preferred VES format going forward.\\nSDO O1 format Either a 3GPP-specified notifyFileDownload or an O-RAN-specified o1NotifyFileDownload notification should be defined. VES O1 format A Harmonized VES event, as specified in the VES Event Listener Specification [18], containing stndDefinedFields with a \"data\" element that contains either a 3GPP-specified notifyFileDownload or an O-RAN-specified o1NotifyFileDownload notification.  44 © 2024 by the O-RAN ALLIANCE e.V. Your use is subject to the copyright statement on the cover page of this specification. O-RAN.WG10.O1-Interface.0-R003-v13.00 6.5.5 File push from a MnS producer to a MnS consumer 6.5.5.1 Description Refer to 3GPP TS 28.537 [4] clause 7.3.1 6.5.5.2 Requirements Requirements specified in 3GPP TS 28.537 [4] clause 7.3.3 shall apply. 6.5.5.3 Procedures Figure 6.5.5.3-1 File Push Procedure: 1.\\nO-RAN.WG10.O1-Interface.0-R003-v13.00 h. Refer to 3GPP TS 28.552 [i.5] clause 5.1.1.2.h i. Refer to 3GPP TS 28.552 [i.5] clause 5.1.1.2.i. Additionally for each PLMN ID.  65 © 2024 by the O-RAN ALLIANCE e.V. Your use is subject to the copyright statement on the cover page of this specification. O-RAN.WG10.O1-Interface.0-R003-v13.00 Annex B: (informative) Guidelines and Example for stndDefined VES Events B.1: Guidelines for use of stndDefined VES for sending 3GPP- specified or O-RAN-specified O1 notifications A stndDefined VES event, as specified in VES Event Listener Specification [18], allows a VES event to carry, as its payload, a notification specified by an SDO. In the case of O-RAN O1 Interface Specification, a harmonized stndDefined VES event carries either a 3GPP-specified O1 notification or an O-RAN-specified O1 notification as its payload.\\n'"
      ]
     },
     "execution_count": 11,
     "metadata": {},
     "output_type": "execute_result"
    }
   ],
   "source": [
    "text = \"What is VES in O1?\"\n",
    "concatdocs, sources, srcs = retrieve_docs(text, retriever)\n"
   ]
  },
  {
   "cell_type": "code",
   "execution_count": 17,
   "metadata": {},
   "outputs": [
    {
     "name": "stdout",
     "output_type": "stream",
     "text": [
      "VES O1 format A Harmonized VES event, as specified in the VES Event Listener Specification [18], containing stndDefinedFields with a \"data\" element that contains either a 3GPP-specified notifySoftwareActivate or an O-RAN-specified o1NotifySoftwareActivate notification.  57 © 2024 by the O-RAN ALLIANCE e.V. Your use is subject to the copyright statement on the cover page of this specification. O-RAN.WG10.O1-Interface.0-R003-v13.00 6.9 PNF Reset Management Services 6.9.0 Overview PNF Reset Management Services allow a PNF Reset MnS Consumer to trigger a reset of a HW unit of a PNF Reset MnS Producer on command. 6.9.1 PNF Reset Command 6.9.1.1 Description\n",
      "Harmonized VES Legacy VES Harmonized VES refers to the stndDefined VES event specified in VES Event Listener Specification [18] that allows a VES event to carry, as its payload, a notification specified by an SDO. In the case of O-RAN O1 Interface Specification, a harmonized stndDefined VES event carries either a 3GPP-specified O1 notification or an O-RAN specified O1 notification as its payload. Legacy VES refers to any VES event specified in the VES Event Listener Specification [18], except for stndDefined. Legacy VES events are fully defined in [18] and don’t rely on an SDO to specify the content of the payload. The Legacy VES events supported by O1 Interface Specification is PNF Registration.\n",
      "SDO O1 format An O1-supported 3GPP-specified notifyFileReady notification, as specified in 3GPP TS 28.532 [3]. VES O1 format A Harmonized VES event, as specified in the VES Event Listener Specification [18], containing stndDefinedFields with a \"data\" element that contains an O1-supported 3GPP-specified File Ready notification, as specified in 3GPP TS 28.532 [3]. The O1-supported 3GPP-specified File Ready notification is: notifyFileReady. 6.3.1.5 PM File Generation and Reporting When the pull-based Performance Data File Reporting method is used, the following PM File Generation and Reporting requirements apply: PM file generation and reporting shall be as specified in 3GPP TS 28.532 [3] clause 11.6.\n",
      "include an additionalText and/or additionalInformation field when appropriate. A VES O1 format notification is an O1 notification formatted as specified by VES Event Listener Specification [18], consisting of a common event header and domain-specific event fields. VES O1 format notifications are categorized into 2 types, based on domain: Harmonized VES Legacy VES\n",
      "pnfRegistration: VES O1 format A legacy pnfRegistration VES event, as specified in the VES Event Listener Specification [18]. 6.8 PNF Software Management Services 6.8.0 Overview Software management services allow a PNF Software MnS Consumer to request a physical PNF Software MnS Producer to download, install, validate and activate a new software package and allow a physical PNF Software MnS Producer to report its software versions. 6.8.1 Software Package Naming and Content\n",
      "An O1 notification shall be in one of the following formats: SDO O1 format VES O1 format An SDO O1 format notification is an O1 notification formatted as specified by a Standards Defining Organization (SDO). Currently, O1 supports SDO O1 format notifications that are either 3GPP-specified or O-RAN-specified. SDO O1 format notifications are formatted as specified by the SDO and sent without a VES header. 3GPP-specified O1 notifications are specified in 3GPP TS 28.532 [3], clause 11 and clause 12. O-RAN-specified O1 notifications are specified in the O-RAN O1 Network Resource Model Specification [i.16].\n",
      "1. 3GPP format: o A 3GPP fault notification as specified in TS 28.532 [4]. 2. VES format: o A harmonized stndDefined VES event, consisting of a VES commonEventHeader and stndDefinedFields with a “data” element that contains a 3GPP fault notification, as specified in TS 28.532 [4]. The stndDefined VES event is specified in the VES Event Listener Specification [31]. Annex B in this document provides more information about stndDefined VES events. o A legacy fault VES event, consisting of a VES commonEventHeader and faultFields, as specified in the VES Event Listener Specification [31], is also allowed for backward compatibility. However, a stndDefined VES event is the preferred VES format going forward.\n",
      "2. VES format: o A harmonized stndDefined VES event, consisting of a VES commonEventHeader and stndDefinedFields with a “data” element that contains a 3GPP notifyHeartbeat notification, as specified in 3GPP TS 28.532 [4]. The stndDefined VES event is specified in the VES Event Listener Specification [31]. Annex B in this document provides more information about stndDefined VES events. o A legacy heartbeat VES event, consisting of a VES commonEventHeader and heartbeatFields, as specified in the VES Event Listener Specification [31], is also allowed for backward compatibility. However, a stndDefined VES event is the preferred VES format going forward.\n",
      "SDO O1 format Either a 3GPP-specified notifyFileDownload or an O-RAN-specified o1NotifyFileDownload notification should be defined. VES O1 format A Harmonized VES event, as specified in the VES Event Listener Specification [18], containing stndDefinedFields with a \"data\" element that contains either a 3GPP-specified notifyFileDownload or an O-RAN-specified o1NotifyFileDownload notification.  44 © 2024 by the O-RAN ALLIANCE e.V. Your use is subject to the copyright statement on the cover page of this specification. O-RAN.WG10.O1-Interface.0-R003-v13.00 6.5.5 File push from a MnS producer to a MnS consumer 6.5.5.1 Description Refer to 3GPP TS 28.537 [4] clause 7.3.1 6.5.5.2 Requirements Requirements specified in 3GPP TS 28.537 [4] clause 7.3.3 shall apply. 6.5.5.3 Procedures Figure 6.5.5.3-1 File Push Procedure: 1.\n",
      "O-RAN.WG10.O1-Interface.0-R003-v13.00 h. Refer to 3GPP TS 28.552 [i.5] clause 5.1.1.2.h i. Refer to 3GPP TS 28.552 [i.5] clause 5.1.1.2.i. Additionally for each PLMN ID.  65 © 2024 by the O-RAN ALLIANCE e.V. Your use is subject to the copyright statement on the cover page of this specification. O-RAN.WG10.O1-Interface.0-R003-v13.00 Annex B: (informative) Guidelines and Example for stndDefined VES Events B.1: Guidelines for use of stndDefined VES for sending 3GPP- specified or O-RAN-specified O1 notifications A stndDefined VES event, as specified in VES Event Listener Specification [18], allows a VES event to carry, as its payload, a notification specified by an SDO. In the case of O-RAN O1 Interface Specification, a harmonized stndDefined VES event carries either a 3GPP-specified O1 notification or an O-RAN-specified O1 notification as its payload.\n",
      "\n"
     ]
    }
   ],
   "source": [
    "print(concatdocs)"
   ]
  },
  {
   "cell_type": "code",
   "execution_count": 14,
   "metadata": {},
   "outputs": [
    {
     "name": "stdout",
     "output_type": "stream",
     "text": [
      "/home/oran/GenerativeAIExamples/experimental/oran-chatbot-multimodal/vectorstore/oran/O-RAN.WG10.O1-Interface.0-R003-v13.00.pdf\n",
      "\n",
      "/home/oran/GenerativeAIExamples/experimental/oran-chatbot-multimodal/vectorstore/oran/O-RAN.WG10.O1-Interface.0-R003-v13.00.pdf\n",
      "\n",
      "/home/oran/GenerativeAIExamples/experimental/oran-chatbot-multimodal/vectorstore/oran/O-RAN.WG10.O1-Interface.0-R003-v13.00.pdf\n",
      "\n",
      "/home/oran/GenerativeAIExamples/experimental/oran-chatbot-multimodal/vectorstore/oran/O-RAN.WG10.O1-Interface.0-R003-v13.00.pdf\n",
      "\n",
      "/home/oran/GenerativeAIExamples/experimental/oran-chatbot-multimodal/vectorstore/oran/O-RAN.WG10.O1-Interface.0-R003-v13.00.pdf\n",
      "\n",
      "/home/oran/GenerativeAIExamples/experimental/oran-chatbot-multimodal/vectorstore/oran/O-RAN.WG10.O1-Interface.0-R003-v13.00.pdf\n",
      "\n",
      "/home/oran/GenerativeAIExamples/experimental/oran-chatbot-multimodal/vectorstore/oran/O-RAN.WG1.O1-Interface.0-v04.00.pdf\n",
      "\n",
      "/home/oran/GenerativeAIExamples/experimental/oran-chatbot-multimodal/vectorstore/oran/O-RAN.WG1.O1-Interface.0-v04.00.pdf\n",
      "\n",
      "/home/oran/GenerativeAIExamples/experimental/oran-chatbot-multimodal/vectorstore/oran/O-RAN.WG10.O1-Interface.0-R003-v13.00.pdf\n",
      "\n",
      "/home/oran/GenerativeAIExamples/experimental/oran-chatbot-multimodal/vectorstore/oran/O-RAN.WG10.O1-Interface.0-R003-v13.00.pdf\n",
      "\n",
      "\n"
     ]
    }
   ],
   "source": [
    "print(srcs)"
   ]
  },
  {
   "cell_type": "code",
   "execution_count": 16,
   "metadata": {},
   "outputs": [
    {
     "data": {
      "text/plain": [
       "{'/home/oran/GenerativeAIExamples/experimental/oran-chatbot-multimodal/vectorstore/oran/O-RAN.WG10.O1-Interface.0-R003-v13.00.pdf': {'doc_content': 'O-RAN.WG10.O1-Interface.0-R003-v13.00 h. Refer to 3GPP TS 28.552 [i.5] clause 5.1.1.2.h i. Refer to 3GPP TS 28.552 [i.5] clause 5.1.1.2.i. Additionally for each PLMN ID.  65 © 2024 by the O-RAN ALLIANCE e.V. Your use is subject to the copyright statement on the cover page of this specification. O-RAN.WG10.O1-Interface.0-R003-v13.00 Annex B: (informative) Guidelines and Example for stndDefined VES Events B.1: Guidelines for use of stndDefined VES for sending 3GPP- specified or O-RAN-specified O1 notifications A stndDefined VES event, as specified in VES Event Listener Specification [18], allows a VES event to carry, as its payload, a notification specified by an SDO. In the case of O-RAN O1 Interface Specification, a harmonized stndDefined VES event carries either a 3GPP-specified O1 notification or an O-RAN-specified O1 notification as its payload.',\n",
       "  'doc_metadata': '/home/oran/GenerativeAIExamples/experimental/oran-chatbot-multimodal/vectorstore/oran/O-RAN.WG10.O1-Interface.0-R003-v13.00.pdf'},\n",
       " '/home/oran/GenerativeAIExamples/experimental/oran-chatbot-multimodal/vectorstore/oran/O-RAN.WG1.O1-Interface.0-v04.00.pdf': {'doc_content': '2. VES format: o A harmonized stndDefined VES event, consisting of a VES commonEventHeader and stndDefinedFields with a “data” element that contains a 3GPP notifyHeartbeat notification, as specified in 3GPP TS 28.532 [4]. The stndDefined VES event is specified in the VES Event Listener Specification [31]. Annex B in this document provides more information about stndDefined VES events. o A legacy heartbeat VES event, consisting of a VES commonEventHeader and heartbeatFields, as specified in the VES Event Listener Specification [31], is also allowed for backward compatibility. However, a stndDefined VES event is the preferred VES format going forward.',\n",
       "  'doc_metadata': '/home/oran/GenerativeAIExamples/experimental/oran-chatbot-multimodal/vectorstore/oran/O-RAN.WG1.O1-Interface.0-v04.00.pdf'}}"
      ]
     },
     "execution_count": 16,
     "metadata": {},
     "output_type": "execute_result"
    }
   ],
   "source": [
    "sources"
   ]
  }
 ],
 "metadata": {
  "kernelspec": {
   "display_name": "py310",
   "language": "python",
   "name": "python3"
  },
  "language_info": {
   "codemirror_mode": {
    "name": "ipython",
    "version": 3
   },
   "file_extension": ".py",
   "mimetype": "text/x-python",
   "name": "python",
   "nbconvert_exporter": "python",
   "pygments_lexer": "ipython3",
   "version": "3.10.9"
  }
 },
 "nbformat": 4,
 "nbformat_minor": 2
}
